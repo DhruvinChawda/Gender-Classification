{
  "cells": [
    {
      "cell_type": "markdown",
      "id": "ca6caf2c",
      "metadata": {
        "papermill": {
          "duration": 0.016514,
          "end_time": "2023-09-09T17:19:04.809240",
          "exception": false,
          "start_time": "2023-09-09T17:19:04.792726",
          "status": "completed"
        },
        "tags": [],
        "id": "ca6caf2c"
      },
      "source": [
        "# **Data Pre-Processing :**"
      ]
    },
    {
      "cell_type": "code",
      "execution_count": null,
      "id": "bb9eddd0",
      "metadata": {
        "execution": {
          "iopub.execute_input": "2023-09-09T17:19:04.843405Z",
          "iopub.status.busy": "2023-09-09T17:19:04.842798Z",
          "iopub.status.idle": "2023-09-09T17:19:07.136652Z",
          "shell.execute_reply": "2023-09-09T17:19:07.135591Z"
        },
        "papermill": {
          "duration": 2.313552,
          "end_time": "2023-09-09T17:19:07.138950",
          "exception": false,
          "start_time": "2023-09-09T17:19:04.825398",
          "status": "completed"
        },
        "tags": [],
        "id": "bb9eddd0"
      },
      "outputs": [],
      "source": [
        "import numpy as np\n",
        "import pandas as pd\n",
        "import matplotlib.pyplot as plt\n",
        "import seaborn as sns"
      ]
    },
    {
      "cell_type": "code",
      "execution_count": null,
      "id": "6919eac9",
      "metadata": {
        "execution": {
          "iopub.execute_input": "2023-09-09T17:19:07.173499Z",
          "iopub.status.busy": "2023-09-09T17:19:07.173029Z",
          "iopub.status.idle": "2023-09-09T17:19:07.192578Z",
          "shell.execute_reply": "2023-09-09T17:19:07.191827Z"
        },
        "papermill": {
          "duration": 0.039004,
          "end_time": "2023-09-09T17:19:07.194730",
          "exception": false,
          "start_time": "2023-09-09T17:19:07.155726",
          "status": "completed"
        },
        "tags": [],
        "id": "6919eac9"
      },
      "outputs": [],
      "source": [
        "df = pd.read_csv('Transformed Data Set - Sheet1.csv')"
      ]
    },
    {
      "cell_type": "code",
      "execution_count": null,
      "id": "feecec82",
      "metadata": {
        "execution": {
          "iopub.execute_input": "2023-09-09T17:19:07.228925Z",
          "iopub.status.busy": "2023-09-09T17:19:07.228446Z",
          "iopub.status.idle": "2023-09-09T17:19:07.251678Z",
          "shell.execute_reply": "2023-09-09T17:19:07.250325Z"
        },
        "papermill": {
          "duration": 0.04343,
          "end_time": "2023-09-09T17:19:07.254257",
          "exception": false,
          "start_time": "2023-09-09T17:19:07.210827",
          "status": "completed"
        },
        "tags": [],
        "id": "feecec82",
        "outputId": "acb18a99-b8b4-420d-ad64-18ce48952507",
        "colab": {
          "base_uri": "https://localhost:8080/",
          "height": 423
        }
      },
      "outputs": [
        {
          "output_type": "execute_result",
          "data": {
            "text/plain": [
              "   Favorite Color Favorite Music Genre Favorite Beverage Favorite Soft Drink  \\\n",
              "0            Cool                 Rock             Vodka          7UP/Sprite   \n",
              "1         Neutral              Hip hop             Vodka     Coca Cola/Pepsi   \n",
              "2            Warm                 Rock              Wine     Coca Cola/Pepsi   \n",
              "3            Warm     Folk/Traditional           Whiskey               Fanta   \n",
              "4            Cool                 Rock             Vodka     Coca Cola/Pepsi   \n",
              "..            ...                  ...               ...                 ...   \n",
              "61           Cool                 Rock             Vodka     Coca Cola/Pepsi   \n",
              "62           Cool              Hip hop              Beer     Coca Cola/Pepsi   \n",
              "63        Neutral              Hip hop     Doesn't drink               Fanta   \n",
              "64           Cool                 Rock              Wine     Coca Cola/Pepsi   \n",
              "65           Cool           Electronic              Beer     Coca Cola/Pepsi   \n",
              "\n",
              "   Gender  \n",
              "0       F  \n",
              "1       F  \n",
              "2       F  \n",
              "3       F  \n",
              "4       F  \n",
              "..    ...  \n",
              "61      M  \n",
              "62      M  \n",
              "63      M  \n",
              "64      M  \n",
              "65      M  \n",
              "\n",
              "[66 rows x 5 columns]"
            ],
            "text/html": [
              "\n",
              "  <div id=\"df-87314c37-b524-4a3f-9c55-80154639da01\" class=\"colab-df-container\">\n",
              "    <div>\n",
              "<style scoped>\n",
              "    .dataframe tbody tr th:only-of-type {\n",
              "        vertical-align: middle;\n",
              "    }\n",
              "\n",
              "    .dataframe tbody tr th {\n",
              "        vertical-align: top;\n",
              "    }\n",
              "\n",
              "    .dataframe thead th {\n",
              "        text-align: right;\n",
              "    }\n",
              "</style>\n",
              "<table border=\"1\" class=\"dataframe\">\n",
              "  <thead>\n",
              "    <tr style=\"text-align: right;\">\n",
              "      <th></th>\n",
              "      <th>Favorite Color</th>\n",
              "      <th>Favorite Music Genre</th>\n",
              "      <th>Favorite Beverage</th>\n",
              "      <th>Favorite Soft Drink</th>\n",
              "      <th>Gender</th>\n",
              "    </tr>\n",
              "  </thead>\n",
              "  <tbody>\n",
              "    <tr>\n",
              "      <th>0</th>\n",
              "      <td>Cool</td>\n",
              "      <td>Rock</td>\n",
              "      <td>Vodka</td>\n",
              "      <td>7UP/Sprite</td>\n",
              "      <td>F</td>\n",
              "    </tr>\n",
              "    <tr>\n",
              "      <th>1</th>\n",
              "      <td>Neutral</td>\n",
              "      <td>Hip hop</td>\n",
              "      <td>Vodka</td>\n",
              "      <td>Coca Cola/Pepsi</td>\n",
              "      <td>F</td>\n",
              "    </tr>\n",
              "    <tr>\n",
              "      <th>2</th>\n",
              "      <td>Warm</td>\n",
              "      <td>Rock</td>\n",
              "      <td>Wine</td>\n",
              "      <td>Coca Cola/Pepsi</td>\n",
              "      <td>F</td>\n",
              "    </tr>\n",
              "    <tr>\n",
              "      <th>3</th>\n",
              "      <td>Warm</td>\n",
              "      <td>Folk/Traditional</td>\n",
              "      <td>Whiskey</td>\n",
              "      <td>Fanta</td>\n",
              "      <td>F</td>\n",
              "    </tr>\n",
              "    <tr>\n",
              "      <th>4</th>\n",
              "      <td>Cool</td>\n",
              "      <td>Rock</td>\n",
              "      <td>Vodka</td>\n",
              "      <td>Coca Cola/Pepsi</td>\n",
              "      <td>F</td>\n",
              "    </tr>\n",
              "    <tr>\n",
              "      <th>...</th>\n",
              "      <td>...</td>\n",
              "      <td>...</td>\n",
              "      <td>...</td>\n",
              "      <td>...</td>\n",
              "      <td>...</td>\n",
              "    </tr>\n",
              "    <tr>\n",
              "      <th>61</th>\n",
              "      <td>Cool</td>\n",
              "      <td>Rock</td>\n",
              "      <td>Vodka</td>\n",
              "      <td>Coca Cola/Pepsi</td>\n",
              "      <td>M</td>\n",
              "    </tr>\n",
              "    <tr>\n",
              "      <th>62</th>\n",
              "      <td>Cool</td>\n",
              "      <td>Hip hop</td>\n",
              "      <td>Beer</td>\n",
              "      <td>Coca Cola/Pepsi</td>\n",
              "      <td>M</td>\n",
              "    </tr>\n",
              "    <tr>\n",
              "      <th>63</th>\n",
              "      <td>Neutral</td>\n",
              "      <td>Hip hop</td>\n",
              "      <td>Doesn't drink</td>\n",
              "      <td>Fanta</td>\n",
              "      <td>M</td>\n",
              "    </tr>\n",
              "    <tr>\n",
              "      <th>64</th>\n",
              "      <td>Cool</td>\n",
              "      <td>Rock</td>\n",
              "      <td>Wine</td>\n",
              "      <td>Coca Cola/Pepsi</td>\n",
              "      <td>M</td>\n",
              "    </tr>\n",
              "    <tr>\n",
              "      <th>65</th>\n",
              "      <td>Cool</td>\n",
              "      <td>Electronic</td>\n",
              "      <td>Beer</td>\n",
              "      <td>Coca Cola/Pepsi</td>\n",
              "      <td>M</td>\n",
              "    </tr>\n",
              "  </tbody>\n",
              "</table>\n",
              "<p>66 rows × 5 columns</p>\n",
              "</div>\n",
              "    <div class=\"colab-df-buttons\">\n",
              "\n",
              "  <div class=\"colab-df-container\">\n",
              "    <button class=\"colab-df-convert\" onclick=\"convertToInteractive('df-87314c37-b524-4a3f-9c55-80154639da01')\"\n",
              "            title=\"Convert this dataframe to an interactive table.\"\n",
              "            style=\"display:none;\">\n",
              "\n",
              "  <svg xmlns=\"http://www.w3.org/2000/svg\" height=\"24px\" viewBox=\"0 -960 960 960\">\n",
              "    <path d=\"M120-120v-720h720v720H120Zm60-500h600v-160H180v160Zm220 220h160v-160H400v160Zm0 220h160v-160H400v160ZM180-400h160v-160H180v160Zm440 0h160v-160H620v160ZM180-180h160v-160H180v160Zm440 0h160v-160H620v160Z\"/>\n",
              "  </svg>\n",
              "    </button>\n",
              "\n",
              "  <style>\n",
              "    .colab-df-container {\n",
              "      display:flex;\n",
              "      gap: 12px;\n",
              "    }\n",
              "\n",
              "    .colab-df-convert {\n",
              "      background-color: #E8F0FE;\n",
              "      border: none;\n",
              "      border-radius: 50%;\n",
              "      cursor: pointer;\n",
              "      display: none;\n",
              "      fill: #1967D2;\n",
              "      height: 32px;\n",
              "      padding: 0 0 0 0;\n",
              "      width: 32px;\n",
              "    }\n",
              "\n",
              "    .colab-df-convert:hover {\n",
              "      background-color: #E2EBFA;\n",
              "      box-shadow: 0px 1px 2px rgba(60, 64, 67, 0.3), 0px 1px 3px 1px rgba(60, 64, 67, 0.15);\n",
              "      fill: #174EA6;\n",
              "    }\n",
              "\n",
              "    .colab-df-buttons div {\n",
              "      margin-bottom: 4px;\n",
              "    }\n",
              "\n",
              "    [theme=dark] .colab-df-convert {\n",
              "      background-color: #3B4455;\n",
              "      fill: #D2E3FC;\n",
              "    }\n",
              "\n",
              "    [theme=dark] .colab-df-convert:hover {\n",
              "      background-color: #434B5C;\n",
              "      box-shadow: 0px 1px 3px 1px rgba(0, 0, 0, 0.15);\n",
              "      filter: drop-shadow(0px 1px 2px rgba(0, 0, 0, 0.3));\n",
              "      fill: #FFFFFF;\n",
              "    }\n",
              "  </style>\n",
              "\n",
              "    <script>\n",
              "      const buttonEl =\n",
              "        document.querySelector('#df-87314c37-b524-4a3f-9c55-80154639da01 button.colab-df-convert');\n",
              "      buttonEl.style.display =\n",
              "        google.colab.kernel.accessAllowed ? 'block' : 'none';\n",
              "\n",
              "      async function convertToInteractive(key) {\n",
              "        const element = document.querySelector('#df-87314c37-b524-4a3f-9c55-80154639da01');\n",
              "        const dataTable =\n",
              "          await google.colab.kernel.invokeFunction('convertToInteractive',\n",
              "                                                    [key], {});\n",
              "        if (!dataTable) return;\n",
              "\n",
              "        const docLinkHtml = 'Like what you see? Visit the ' +\n",
              "          '<a target=\"_blank\" href=https://colab.research.google.com/notebooks/data_table.ipynb>data table notebook</a>'\n",
              "          + ' to learn more about interactive tables.';\n",
              "        element.innerHTML = '';\n",
              "        dataTable['output_type'] = 'display_data';\n",
              "        await google.colab.output.renderOutput(dataTable, element);\n",
              "        const docLink = document.createElement('div');\n",
              "        docLink.innerHTML = docLinkHtml;\n",
              "        element.appendChild(docLink);\n",
              "      }\n",
              "    </script>\n",
              "  </div>\n",
              "\n",
              "\n",
              "<div id=\"df-c89fe7d1-728e-406b-9a41-a2f8b28079c9\">\n",
              "  <button class=\"colab-df-quickchart\" onclick=\"quickchart('df-c89fe7d1-728e-406b-9a41-a2f8b28079c9')\"\n",
              "            title=\"Suggest charts\"\n",
              "            style=\"display:none;\">\n",
              "\n",
              "<svg xmlns=\"http://www.w3.org/2000/svg\" height=\"24px\"viewBox=\"0 0 24 24\"\n",
              "     width=\"24px\">\n",
              "    <g>\n",
              "        <path d=\"M19 3H5c-1.1 0-2 .9-2 2v14c0 1.1.9 2 2 2h14c1.1 0 2-.9 2-2V5c0-1.1-.9-2-2-2zM9 17H7v-7h2v7zm4 0h-2V7h2v10zm4 0h-2v-4h2v4z\"/>\n",
              "    </g>\n",
              "</svg>\n",
              "  </button>\n",
              "\n",
              "<style>\n",
              "  .colab-df-quickchart {\n",
              "      --bg-color: #E8F0FE;\n",
              "      --fill-color: #1967D2;\n",
              "      --hover-bg-color: #E2EBFA;\n",
              "      --hover-fill-color: #174EA6;\n",
              "      --disabled-fill-color: #AAA;\n",
              "      --disabled-bg-color: #DDD;\n",
              "  }\n",
              "\n",
              "  [theme=dark] .colab-df-quickchart {\n",
              "      --bg-color: #3B4455;\n",
              "      --fill-color: #D2E3FC;\n",
              "      --hover-bg-color: #434B5C;\n",
              "      --hover-fill-color: #FFFFFF;\n",
              "      --disabled-bg-color: #3B4455;\n",
              "      --disabled-fill-color: #666;\n",
              "  }\n",
              "\n",
              "  .colab-df-quickchart {\n",
              "    background-color: var(--bg-color);\n",
              "    border: none;\n",
              "    border-radius: 50%;\n",
              "    cursor: pointer;\n",
              "    display: none;\n",
              "    fill: var(--fill-color);\n",
              "    height: 32px;\n",
              "    padding: 0;\n",
              "    width: 32px;\n",
              "  }\n",
              "\n",
              "  .colab-df-quickchart:hover {\n",
              "    background-color: var(--hover-bg-color);\n",
              "    box-shadow: 0 1px 2px rgba(60, 64, 67, 0.3), 0 1px 3px 1px rgba(60, 64, 67, 0.15);\n",
              "    fill: var(--button-hover-fill-color);\n",
              "  }\n",
              "\n",
              "  .colab-df-quickchart-complete:disabled,\n",
              "  .colab-df-quickchart-complete:disabled:hover {\n",
              "    background-color: var(--disabled-bg-color);\n",
              "    fill: var(--disabled-fill-color);\n",
              "    box-shadow: none;\n",
              "  }\n",
              "\n",
              "  .colab-df-spinner {\n",
              "    border: 2px solid var(--fill-color);\n",
              "    border-color: transparent;\n",
              "    border-bottom-color: var(--fill-color);\n",
              "    animation:\n",
              "      spin 1s steps(1) infinite;\n",
              "  }\n",
              "\n",
              "  @keyframes spin {\n",
              "    0% {\n",
              "      border-color: transparent;\n",
              "      border-bottom-color: var(--fill-color);\n",
              "      border-left-color: var(--fill-color);\n",
              "    }\n",
              "    20% {\n",
              "      border-color: transparent;\n",
              "      border-left-color: var(--fill-color);\n",
              "      border-top-color: var(--fill-color);\n",
              "    }\n",
              "    30% {\n",
              "      border-color: transparent;\n",
              "      border-left-color: var(--fill-color);\n",
              "      border-top-color: var(--fill-color);\n",
              "      border-right-color: var(--fill-color);\n",
              "    }\n",
              "    40% {\n",
              "      border-color: transparent;\n",
              "      border-right-color: var(--fill-color);\n",
              "      border-top-color: var(--fill-color);\n",
              "    }\n",
              "    60% {\n",
              "      border-color: transparent;\n",
              "      border-right-color: var(--fill-color);\n",
              "    }\n",
              "    80% {\n",
              "      border-color: transparent;\n",
              "      border-right-color: var(--fill-color);\n",
              "      border-bottom-color: var(--fill-color);\n",
              "    }\n",
              "    90% {\n",
              "      border-color: transparent;\n",
              "      border-bottom-color: var(--fill-color);\n",
              "    }\n",
              "  }\n",
              "</style>\n",
              "\n",
              "  <script>\n",
              "    async function quickchart(key) {\n",
              "      const quickchartButtonEl =\n",
              "        document.querySelector('#' + key + ' button');\n",
              "      quickchartButtonEl.disabled = true;  // To prevent multiple clicks.\n",
              "      quickchartButtonEl.classList.add('colab-df-spinner');\n",
              "      try {\n",
              "        const charts = await google.colab.kernel.invokeFunction(\n",
              "            'suggestCharts', [key], {});\n",
              "      } catch (error) {\n",
              "        console.error('Error during call to suggestCharts:', error);\n",
              "      }\n",
              "      quickchartButtonEl.classList.remove('colab-df-spinner');\n",
              "      quickchartButtonEl.classList.add('colab-df-quickchart-complete');\n",
              "    }\n",
              "    (() => {\n",
              "      let quickchartButtonEl =\n",
              "        document.querySelector('#df-c89fe7d1-728e-406b-9a41-a2f8b28079c9 button');\n",
              "      quickchartButtonEl.style.display =\n",
              "        google.colab.kernel.accessAllowed ? 'block' : 'none';\n",
              "    })();\n",
              "  </script>\n",
              "</div>\n",
              "    </div>\n",
              "  </div>\n"
            ]
          },
          "metadata": {},
          "execution_count": 3
        }
      ],
      "source": [
        "df"
      ]
    },
    {
      "cell_type": "code",
      "execution_count": null,
      "id": "76e77bbf",
      "metadata": {
        "execution": {
          "iopub.execute_input": "2023-09-09T17:19:07.288480Z",
          "iopub.status.busy": "2023-09-09T17:19:07.288156Z",
          "iopub.status.idle": "2023-09-09T17:19:07.314844Z",
          "shell.execute_reply": "2023-09-09T17:19:07.314024Z"
        },
        "papermill": {
          "duration": 0.046269,
          "end_time": "2023-09-09T17:19:07.317024",
          "exception": false,
          "start_time": "2023-09-09T17:19:07.270755",
          "status": "completed"
        },
        "tags": [],
        "id": "76e77bbf",
        "outputId": "561b5112-bcfa-4a5c-c1e0-bdd0806f6794",
        "colab": {
          "base_uri": "https://localhost:8080/"
        }
      },
      "outputs": [
        {
          "output_type": "stream",
          "name": "stdout",
          "text": [
            "<class 'pandas.core.frame.DataFrame'>\n",
            "RangeIndex: 66 entries, 0 to 65\n",
            "Data columns (total 5 columns):\n",
            " #   Column                Non-Null Count  Dtype \n",
            "---  ------                --------------  ----- \n",
            " 0   Favorite Color        66 non-null     object\n",
            " 1   Favorite Music Genre  66 non-null     object\n",
            " 2   Favorite Beverage     66 non-null     object\n",
            " 3   Favorite Soft Drink   66 non-null     object\n",
            " 4   Gender                66 non-null     object\n",
            "dtypes: object(5)\n",
            "memory usage: 2.7+ KB\n"
          ]
        }
      ],
      "source": [
        "df.info()"
      ]
    },
    {
      "cell_type": "code",
      "execution_count": null,
      "id": "8877da87",
      "metadata": {
        "execution": {
          "iopub.execute_input": "2023-09-09T17:19:07.351764Z",
          "iopub.status.busy": "2023-09-09T17:19:07.351426Z",
          "iopub.status.idle": "2023-09-09T17:19:07.359033Z",
          "shell.execute_reply": "2023-09-09T17:19:07.357954Z"
        },
        "papermill": {
          "duration": 0.02753,
          "end_time": "2023-09-09T17:19:07.360947",
          "exception": false,
          "start_time": "2023-09-09T17:19:07.333417",
          "status": "completed"
        },
        "tags": [],
        "id": "8877da87",
        "outputId": "39e29822-2a19-47d7-ad34-2db3be7af603",
        "colab": {
          "base_uri": "https://localhost:8080/"
        }
      },
      "outputs": [
        {
          "output_type": "execute_result",
          "data": {
            "text/plain": [
              "Favorite Color          0\n",
              "Favorite Music Genre    0\n",
              "Favorite Beverage       0\n",
              "Favorite Soft Drink     0\n",
              "Gender                  0\n",
              "dtype: int64"
            ]
          },
          "metadata": {},
          "execution_count": 5
        }
      ],
      "source": [
        "df.isna().sum()"
      ]
    },
    {
      "cell_type": "code",
      "execution_count": null,
      "id": "938c62eb",
      "metadata": {
        "execution": {
          "iopub.execute_input": "2023-09-09T17:19:07.395305Z",
          "iopub.status.busy": "2023-09-09T17:19:07.394972Z",
          "iopub.status.idle": "2023-09-09T17:19:07.404477Z",
          "shell.execute_reply": "2023-09-09T17:19:07.403814Z"
        },
        "papermill": {
          "duration": 0.029104,
          "end_time": "2023-09-09T17:19:07.406261",
          "exception": false,
          "start_time": "2023-09-09T17:19:07.377157",
          "status": "completed"
        },
        "tags": [],
        "id": "938c62eb",
        "outputId": "5e9a2c72-06ce-4805-f66c-81a27cb598dd",
        "colab": {
          "base_uri": "https://localhost:8080/"
        }
      },
      "outputs": [
        {
          "output_type": "execute_result",
          "data": {
            "text/plain": [
              "4"
            ]
          },
          "metadata": {},
          "execution_count": 6
        }
      ],
      "source": [
        "# Check for Duplicates\n",
        "df.duplicated().sum()"
      ]
    },
    {
      "cell_type": "code",
      "execution_count": null,
      "id": "d9da69e3",
      "metadata": {
        "execution": {
          "iopub.execute_input": "2023-09-09T17:19:07.498659Z",
          "iopub.status.busy": "2023-09-09T17:19:07.498314Z",
          "iopub.status.idle": "2023-09-09T17:19:07.504384Z",
          "shell.execute_reply": "2023-09-09T17:19:07.503642Z"
        },
        "papermill": {
          "duration": 0.026494,
          "end_time": "2023-09-09T17:19:07.506379",
          "exception": false,
          "start_time": "2023-09-09T17:19:07.479885",
          "status": "completed"
        },
        "tags": [],
        "id": "d9da69e3"
      },
      "outputs": [],
      "source": [
        "# Drop the Duplicates\n",
        "df.drop_duplicates(inplace=True)"
      ]
    },
    {
      "cell_type": "code",
      "execution_count": null,
      "id": "59e45647",
      "metadata": {
        "execution": {
          "iopub.execute_input": "2023-09-09T17:19:07.543596Z",
          "iopub.status.busy": "2023-09-09T17:19:07.543051Z",
          "iopub.status.idle": "2023-09-09T17:19:07.549377Z",
          "shell.execute_reply": "2023-09-09T17:19:07.548255Z"
        },
        "papermill": {
          "duration": 0.028384,
          "end_time": "2023-09-09T17:19:07.552008",
          "exception": false,
          "start_time": "2023-09-09T17:19:07.523624",
          "status": "completed"
        },
        "tags": [],
        "id": "59e45647",
        "outputId": "1bfeafd0-8586-4cac-f348-bff802df86ba",
        "colab": {
          "base_uri": "https://localhost:8080/"
        }
      },
      "outputs": [
        {
          "output_type": "execute_result",
          "data": {
            "text/plain": [
              "(62, 5)"
            ]
          },
          "metadata": {},
          "execution_count": 8
        }
      ],
      "source": [
        "df.shape"
      ]
    },
    {
      "cell_type": "markdown",
      "id": "daef96c9",
      "metadata": {
        "papermill": {
          "duration": 0.01631,
          "end_time": "2023-09-09T17:19:07.585349",
          "exception": false,
          "start_time": "2023-09-09T17:19:07.569039",
          "status": "completed"
        },
        "tags": [],
        "id": "daef96c9"
      },
      "source": [
        "> **Encoding the Categorical Data :**"
      ]
    },
    {
      "cell_type": "code",
      "execution_count": null,
      "id": "f309aef8",
      "metadata": {
        "execution": {
          "iopub.execute_input": "2023-09-09T17:19:07.620019Z",
          "iopub.status.busy": "2023-09-09T17:19:07.619695Z",
          "iopub.status.idle": "2023-09-09T17:19:07.798347Z",
          "shell.execute_reply": "2023-09-09T17:19:07.797027Z"
        },
        "papermill": {
          "duration": 0.199625,
          "end_time": "2023-09-09T17:19:07.801382",
          "exception": false,
          "start_time": "2023-09-09T17:19:07.601757",
          "status": "completed"
        },
        "tags": [],
        "id": "f309aef8"
      },
      "outputs": [],
      "source": [
        "from sklearn.preprocessing import LabelEncoder\n",
        "\n",
        "encoder = LabelEncoder()"
      ]
    },
    {
      "cell_type": "code",
      "execution_count": null,
      "id": "a7efb9d8",
      "metadata": {
        "execution": {
          "iopub.execute_input": "2023-09-09T17:19:07.838159Z",
          "iopub.status.busy": "2023-09-09T17:19:07.837622Z",
          "iopub.status.idle": "2023-09-09T17:19:07.846230Z",
          "shell.execute_reply": "2023-09-09T17:19:07.844872Z"
        },
        "papermill": {
          "duration": 0.029591,
          "end_time": "2023-09-09T17:19:07.848247",
          "exception": false,
          "start_time": "2023-09-09T17:19:07.818656",
          "status": "completed"
        },
        "tags": [],
        "id": "a7efb9d8",
        "outputId": "21e43401-f4fc-46d4-919a-8c5ab8f04e30",
        "colab": {
          "base_uri": "https://localhost:8080/"
        }
      },
      "outputs": [
        {
          "output_type": "execute_result",
          "data": {
            "text/plain": [
              "array(['Cool', 'Neutral', 'Warm'], dtype=object)"
            ]
          },
          "metadata": {},
          "execution_count": 10
        }
      ],
      "source": [
        "df['Favorite Color'].unique()"
      ]
    },
    {
      "cell_type": "code",
      "execution_count": null,
      "id": "4629ccbb",
      "metadata": {
        "execution": {
          "iopub.execute_input": "2023-09-09T17:19:07.884364Z",
          "iopub.status.busy": "2023-09-09T17:19:07.884011Z",
          "iopub.status.idle": "2023-09-09T17:19:07.891318Z",
          "shell.execute_reply": "2023-09-09T17:19:07.890376Z"
        },
        "papermill": {
          "duration": 0.02837,
          "end_time": "2023-09-09T17:19:07.893753",
          "exception": false,
          "start_time": "2023-09-09T17:19:07.865383",
          "status": "completed"
        },
        "tags": [],
        "id": "4629ccbb"
      },
      "outputs": [],
      "source": [
        "df['Favorite Color'] = encoder.fit_transform(df['Favorite Color'])"
      ]
    },
    {
      "cell_type": "code",
      "execution_count": null,
      "id": "d6ef1b49",
      "metadata": {
        "execution": {
          "iopub.execute_input": "2023-09-09T17:19:07.931493Z",
          "iopub.status.busy": "2023-09-09T17:19:07.931143Z",
          "iopub.status.idle": "2023-09-09T17:19:07.937610Z",
          "shell.execute_reply": "2023-09-09T17:19:07.936805Z"
        },
        "papermill": {
          "duration": 0.028013,
          "end_time": "2023-09-09T17:19:07.939643",
          "exception": false,
          "start_time": "2023-09-09T17:19:07.911630",
          "status": "completed"
        },
        "tags": [],
        "id": "d6ef1b49",
        "outputId": "ebc15eef-4934-4111-eb98-394f101ea9f3",
        "colab": {
          "base_uri": "https://localhost:8080/"
        }
      },
      "outputs": [
        {
          "output_type": "execute_result",
          "data": {
            "text/plain": [
              "array(['Rock', 'Hip hop', 'Folk/Traditional', 'Jazz/Blues', 'Pop',\n",
              "       'Electronic', 'R&B and soul'], dtype=object)"
            ]
          },
          "metadata": {},
          "execution_count": 12
        }
      ],
      "source": [
        "df['Favorite Music Genre'].unique()"
      ]
    },
    {
      "cell_type": "code",
      "execution_count": null,
      "id": "1ac5099a",
      "metadata": {
        "execution": {
          "iopub.execute_input": "2023-09-09T17:19:07.976940Z",
          "iopub.status.busy": "2023-09-09T17:19:07.976087Z",
          "iopub.status.idle": "2023-09-09T17:19:07.981249Z",
          "shell.execute_reply": "2023-09-09T17:19:07.980435Z"
        },
        "papermill": {
          "duration": 0.026146,
          "end_time": "2023-09-09T17:19:07.983268",
          "exception": false,
          "start_time": "2023-09-09T17:19:07.957122",
          "status": "completed"
        },
        "tags": [],
        "id": "1ac5099a"
      },
      "outputs": [],
      "source": [
        "df['Favorite Music Genre'] = encoder.fit_transform(df['Favorite Music Genre'])"
      ]
    },
    {
      "cell_type": "code",
      "execution_count": null,
      "id": "e437bd8b",
      "metadata": {
        "execution": {
          "iopub.execute_input": "2023-09-09T17:19:08.020231Z",
          "iopub.status.busy": "2023-09-09T17:19:08.019583Z",
          "iopub.status.idle": "2023-09-09T17:19:08.026875Z",
          "shell.execute_reply": "2023-09-09T17:19:08.025610Z"
        },
        "papermill": {
          "duration": 0.028469,
          "end_time": "2023-09-09T17:19:08.029165",
          "exception": false,
          "start_time": "2023-09-09T17:19:08.000696",
          "status": "completed"
        },
        "tags": [],
        "id": "e437bd8b",
        "outputId": "54a07050-aaf8-416d-98a3-b9b228a668a9",
        "colab": {
          "base_uri": "https://localhost:8080/"
        }
      },
      "outputs": [
        {
          "output_type": "execute_result",
          "data": {
            "text/plain": [
              "array(['Vodka', 'Wine', 'Whiskey', \"Doesn't drink\", 'Beer', 'Other'],\n",
              "      dtype=object)"
            ]
          },
          "metadata": {},
          "execution_count": 14
        }
      ],
      "source": [
        "df['Favorite Beverage'].unique()"
      ]
    },
    {
      "cell_type": "code",
      "execution_count": null,
      "id": "28960fc5",
      "metadata": {
        "execution": {
          "iopub.execute_input": "2023-09-09T17:19:08.067036Z",
          "iopub.status.busy": "2023-09-09T17:19:08.066613Z",
          "iopub.status.idle": "2023-09-09T17:19:08.071361Z",
          "shell.execute_reply": "2023-09-09T17:19:08.070653Z"
        },
        "papermill": {
          "duration": 0.025589,
          "end_time": "2023-09-09T17:19:08.073118",
          "exception": false,
          "start_time": "2023-09-09T17:19:08.047529",
          "status": "completed"
        },
        "tags": [],
        "id": "28960fc5"
      },
      "outputs": [],
      "source": [
        "df['Favorite Beverage'] = encoder.fit_transform(df['Favorite Beverage'])"
      ]
    },
    {
      "cell_type": "code",
      "execution_count": null,
      "id": "07a40b88",
      "metadata": {
        "execution": {
          "iopub.execute_input": "2023-09-09T17:19:08.109160Z",
          "iopub.status.busy": "2023-09-09T17:19:08.108823Z",
          "iopub.status.idle": "2023-09-09T17:19:08.116290Z",
          "shell.execute_reply": "2023-09-09T17:19:08.115204Z"
        },
        "papermill": {
          "duration": 0.02762,
          "end_time": "2023-09-09T17:19:08.118092",
          "exception": false,
          "start_time": "2023-09-09T17:19:08.090472",
          "status": "completed"
        },
        "tags": [],
        "id": "07a40b88",
        "outputId": "76d1843d-fb63-408a-f183-2de1823e8301",
        "colab": {
          "base_uri": "https://localhost:8080/"
        }
      },
      "outputs": [
        {
          "output_type": "execute_result",
          "data": {
            "text/plain": [
              "array(['7UP/Sprite', 'Coca Cola/Pepsi', 'Fanta', 'Other'], dtype=object)"
            ]
          },
          "metadata": {},
          "execution_count": 16
        }
      ],
      "source": [
        "df['Favorite Soft Drink'].unique()"
      ]
    },
    {
      "cell_type": "code",
      "execution_count": null,
      "id": "c305e157",
      "metadata": {
        "execution": {
          "iopub.execute_input": "2023-09-09T17:19:08.153422Z",
          "iopub.status.busy": "2023-09-09T17:19:08.153098Z",
          "iopub.status.idle": "2023-09-09T17:19:08.158979Z",
          "shell.execute_reply": "2023-09-09T17:19:08.157460Z"
        },
        "papermill": {
          "duration": 0.026253,
          "end_time": "2023-09-09T17:19:08.161369",
          "exception": false,
          "start_time": "2023-09-09T17:19:08.135116",
          "status": "completed"
        },
        "tags": [],
        "id": "c305e157"
      },
      "outputs": [],
      "source": [
        "df['Favorite Soft Drink'] = encoder.fit_transform(df['Favorite Soft Drink'])"
      ]
    },
    {
      "cell_type": "code",
      "execution_count": null,
      "id": "bdb06f85",
      "metadata": {
        "execution": {
          "iopub.execute_input": "2023-09-09T17:19:08.197760Z",
          "iopub.status.busy": "2023-09-09T17:19:08.197375Z",
          "iopub.status.idle": "2023-09-09T17:19:08.204113Z",
          "shell.execute_reply": "2023-09-09T17:19:08.203149Z"
        },
        "papermill": {
          "duration": 0.026967,
          "end_time": "2023-09-09T17:19:08.205893",
          "exception": false,
          "start_time": "2023-09-09T17:19:08.178926",
          "status": "completed"
        },
        "tags": [],
        "id": "bdb06f85",
        "outputId": "e843a606-f392-4124-e4a7-8fe198ecf50e",
        "colab": {
          "base_uri": "https://localhost:8080/"
        }
      },
      "outputs": [
        {
          "output_type": "execute_result",
          "data": {
            "text/plain": [
              "array(['F', 'M'], dtype=object)"
            ]
          },
          "metadata": {},
          "execution_count": 18
        }
      ],
      "source": [
        "df['Gender'].unique()"
      ]
    },
    {
      "cell_type": "code",
      "execution_count": null,
      "id": "8281c927",
      "metadata": {
        "execution": {
          "iopub.execute_input": "2023-09-09T17:19:08.242813Z",
          "iopub.status.busy": "2023-09-09T17:19:08.242444Z",
          "iopub.status.idle": "2023-09-09T17:19:08.248345Z",
          "shell.execute_reply": "2023-09-09T17:19:08.247155Z"
        },
        "papermill": {
          "duration": 0.026721,
          "end_time": "2023-09-09T17:19:08.250730",
          "exception": false,
          "start_time": "2023-09-09T17:19:08.224009",
          "status": "completed"
        },
        "tags": [],
        "id": "8281c927"
      },
      "outputs": [],
      "source": [
        "df['Gender'] = encoder.fit_transform(df['Gender'])"
      ]
    },
    {
      "cell_type": "code",
      "execution_count": null,
      "id": "1664b579",
      "metadata": {
        "execution": {
          "iopub.execute_input": "2023-09-09T17:19:08.287102Z",
          "iopub.status.busy": "2023-09-09T17:19:08.286753Z",
          "iopub.status.idle": "2023-09-09T17:19:08.297217Z",
          "shell.execute_reply": "2023-09-09T17:19:08.296323Z"
        },
        "papermill": {
          "duration": 0.030938,
          "end_time": "2023-09-09T17:19:08.299115",
          "exception": false,
          "start_time": "2023-09-09T17:19:08.268177",
          "status": "completed"
        },
        "tags": [],
        "id": "1664b579",
        "outputId": "7d524927-2199-4377-df6f-94649bc386bd",
        "colab": {
          "base_uri": "https://localhost:8080/"
        }
      },
      "outputs": [
        {
          "output_type": "stream",
          "name": "stdout",
          "text": [
            "<class 'pandas.core.frame.DataFrame'>\n",
            "Int64Index: 62 entries, 0 to 65\n",
            "Data columns (total 5 columns):\n",
            " #   Column                Non-Null Count  Dtype\n",
            "---  ------                --------------  -----\n",
            " 0   Favorite Color        62 non-null     int64\n",
            " 1   Favorite Music Genre  62 non-null     int64\n",
            " 2   Favorite Beverage     62 non-null     int64\n",
            " 3   Favorite Soft Drink   62 non-null     int64\n",
            " 4   Gender                62 non-null     int64\n",
            "dtypes: int64(5)\n",
            "memory usage: 2.9 KB\n"
          ]
        }
      ],
      "source": [
        "df.info()"
      ]
    },
    {
      "cell_type": "markdown",
      "id": "0d4aabb5",
      "metadata": {
        "papermill": {
          "duration": 0.017287,
          "end_time": "2023-09-09T17:19:08.334235",
          "exception": false,
          "start_time": "2023-09-09T17:19:08.316948",
          "status": "completed"
        },
        "tags": [],
        "id": "0d4aabb5"
      },
      "source": [
        "> **Visualize the Data :**"
      ]
    },
    {
      "cell_type": "code",
      "execution_count": null,
      "id": "91b87460",
      "metadata": {
        "execution": {
          "iopub.execute_input": "2023-09-09T17:19:08.372153Z",
          "iopub.status.busy": "2023-09-09T17:19:08.371848Z",
          "iopub.status.idle": "2023-09-09T17:19:08.547345Z",
          "shell.execute_reply": "2023-09-09T17:19:08.546603Z"
        },
        "papermill": {
          "duration": 0.197129,
          "end_time": "2023-09-09T17:19:08.549293",
          "exception": false,
          "start_time": "2023-09-09T17:19:08.352164",
          "status": "completed"
        },
        "tags": [],
        "id": "91b87460",
        "outputId": "da89939a-801b-4ae7-fb6c-e49521d2cc9f",
        "colab": {
          "base_uri": "https://localhost:8080/",
          "height": 449
        }
      },
      "outputs": [
        {
          "output_type": "display_data",
          "data": {
            "text/plain": [
              "<Figure size 640x480 with 1 Axes>"
            ],
            "image/png": "[encoded data removed]"
          },
          "metadata": {}
        }
      ],
      "source": [
        "sns.countplot(x=df['Gender'])\n",
        "\n",
        "plt.show()"
      ]
    },
    {
      "cell_type": "code",
      "execution_count": null,
      "id": "244cd8f0",
      "metadata": {
        "execution": {
          "iopub.execute_input": "2023-09-09T17:19:08.588195Z",
          "iopub.status.busy": "2023-09-09T17:19:08.587112Z",
          "iopub.status.idle": "2023-09-09T17:19:09.021142Z",
          "shell.execute_reply": "2023-09-09T17:19:09.020083Z"
        },
        "papermill": {
          "duration": 0.455426,
          "end_time": "2023-09-09T17:19:09.023447",
          "exception": false,
          "start_time": "2023-09-09T17:19:08.568021",
          "status": "completed"
        },
        "tags": [],
        "id": "244cd8f0",
        "outputId": "8e52d336-cbe6-43e1-d777-65e5b1ea3bff",
        "colab": {
          "base_uri": "https://localhost:8080/",
          "height": 466
        }
      },
      "outputs": [
        {
          "output_type": "display_data",
          "data": {
            "text/plain": [
              "<Figure size 640x480 with 4 Axes>"
            ],
            "image/png": "[encoded data removed]"
          },
          "metadata": {}
        },
        {
          "output_type": "display_data",
          "data": {
            "text/plain": [
              "<Figure size 1000x1200 with 0 Axes>"
            ]
          },
          "metadata": {}
        }
      ],
      "source": [
        "fig, ax =plt.subplots(2,2)\n",
        "\n",
        "plt.figure(figsize=(10,12))\n",
        "\n",
        "sns.countplot(x=df['Favorite Color'], ax=ax[0,0])\n",
        "sns.countplot(x=df['Favorite Music Genre'], ax=ax[0,1])\n",
        "sns.countplot(x=df['Favorite Beverage'], ax=ax[1,0])\n",
        "sns.countplot(x=df['Favorite Soft Drink'], ax=ax[1,1])\n",
        "\n",
        "plt.show()"
      ]
    },
    {
      "cell_type": "code",
      "execution_count": null,
      "id": "775e648f",
      "metadata": {
        "execution": {
          "iopub.execute_input": "2023-09-09T17:19:09.064074Z",
          "iopub.status.busy": "2023-09-09T17:19:09.062711Z",
          "iopub.status.idle": "2023-09-09T17:19:09.069756Z",
          "shell.execute_reply": "2023-09-09T17:19:09.068562Z"
        },
        "papermill": {
          "duration": 0.030124,
          "end_time": "2023-09-09T17:19:09.072105",
          "exception": false,
          "start_time": "2023-09-09T17:19:09.041981",
          "status": "completed"
        },
        "tags": [],
        "id": "775e648f"
      },
      "outputs": [],
      "source": [
        "X = df.drop('Gender', axis=1)\n",
        "Y = df['Gender']"
      ]
    },
    {
      "cell_type": "code",
      "execution_count": null,
      "id": "5078aa94",
      "metadata": {
        "execution": {
          "iopub.execute_input": "2023-09-09T17:19:09.112893Z",
          "iopub.status.busy": "2023-09-09T17:19:09.111688Z",
          "iopub.status.idle": "2023-09-09T17:19:09.242936Z",
          "shell.execute_reply": "2023-09-09T17:19:09.241402Z"
        },
        "papermill": {
          "duration": 0.153564,
          "end_time": "2023-09-09T17:19:09.245297",
          "exception": false,
          "start_time": "2023-09-09T17:19:09.091733",
          "status": "completed"
        },
        "tags": [],
        "id": "5078aa94"
      },
      "outputs": [],
      "source": [
        "from sklearn.model_selection import train_test_split\n",
        "\n",
        "x_train,x_test,y_train,y_test = train_test_split(X, Y, test_size=0.20, random_state=42)"
      ]
    },
    {
      "cell_type": "markdown",
      "id": "c694f8b0",
      "metadata": {
        "papermill": {
          "duration": 0.017671,
          "end_time": "2023-09-09T17:19:09.282698",
          "exception": false,
          "start_time": "2023-09-09T17:19:09.265027",
          "status": "completed"
        },
        "tags": [],
        "id": "c694f8b0"
      },
      "source": [
        "# **Logistic Regression Model**"
      ]
    },
    {
      "cell_type": "markdown",
      "id": "a4c86c76",
      "metadata": {
        "papermill": {
          "duration": 0.017908,
          "end_time": "2023-09-09T17:19:09.318238",
          "exception": false,
          "start_time": "2023-09-09T17:19:09.300330",
          "status": "completed"
        },
        "tags": [],
        "id": "a4c86c76"
      },
      "source": [
        "> **Create and Train the Model :**"
      ]
    },
    {
      "cell_type": "code",
      "execution_count": null,
      "id": "6613675a",
      "metadata": {
        "execution": {
          "iopub.execute_input": "2023-09-09T17:19:09.354557Z",
          "iopub.status.busy": "2023-09-09T17:19:09.354261Z",
          "iopub.status.idle": "2023-09-09T17:19:09.463458Z",
          "shell.execute_reply": "2023-09-09T17:19:09.462354Z"
        },
        "papermill": {
          "duration": 0.129817,
          "end_time": "2023-09-09T17:19:09.465669",
          "exception": false,
          "start_time": "2023-09-09T17:19:09.335852",
          "status": "completed"
        },
        "tags": [],
        "id": "6613675a"
      },
      "outputs": [],
      "source": [
        "from sklearn.linear_model import LogisticRegression"
      ]
    },
    {
      "cell_type": "code",
      "execution_count": null,
      "id": "5e467a68",
      "metadata": {
        "execution": {
          "iopub.execute_input": "2023-09-09T17:19:09.507299Z",
          "iopub.status.busy": "2023-09-09T17:19:09.506869Z",
          "iopub.status.idle": "2023-09-09T17:19:09.534515Z",
          "shell.execute_reply": "2023-09-09T17:19:09.533763Z"
        },
        "papermill": {
          "duration": 0.053043,
          "end_time": "2023-09-09T17:19:09.537156",
          "exception": false,
          "start_time": "2023-09-09T17:19:09.484113",
          "status": "completed"
        },
        "tags": [],
        "id": "5e467a68",
        "outputId": "cc177789-1527-4f06-9ef3-767d81d2ae0b",
        "colab": {
          "base_uri": "https://localhost:8080/",
          "height": 74
        }
      },
      "outputs": [
        {
          "output_type": "execute_result",
          "data": {
            "text/plain": [
              "LogisticRegression()"
            ],
            "text/html": [
              "<style>#sk-container-id-1 {color: black;background-color: white;}#sk-container-id-1 pre{padding: 0;}#sk-container-id-1 div.sk-toggleable {background-color: white;}#sk-container-id-1 label.sk-toggleable__label {cursor: pointer;display: block;width: 100%;margin-bottom: 0;padding: 0.3em;box-sizing: border-box;text-align: center;}#sk-container-id-1 label.sk-toggleable__label-arrow:before {content: \"▸\";float: left;margin-right: 0.25em;color: #696969;}#sk-container-id-1 label.sk-toggleable__label-arrow:hover:before {color: black;}#sk-container-id-1 div.sk-estimator:hover label.sk-toggleable__label-arrow:before {color: black;}#sk-container-id-1 div.sk-toggleable__content {max-height: 0;max-width: 0;overflow: hidden;text-align: left;background-color: #f0f8ff;}#sk-container-id-1 div.sk-toggleable__content pre {margin: 0.2em;color: black;border-radius: 0.25em;background-color: #f0f8ff;}#sk-container-id-1 input.sk-toggleable__control:checked~div.sk-toggleable__content {max-height: 200px;max-width: 100%;overflow: auto;}#sk-container-id-1 input.sk-toggleable__control:checked~label.sk-toggleable__label-arrow:before {content: \"▾\";}#sk-container-id-1 div.sk-estimator input.sk-toggleable__control:checked~label.sk-toggleable__label {background-color: #d4ebff;}#sk-container-id-1 div.sk-label input.sk-toggleable__control:checked~label.sk-toggleable__label {background-color: #d4ebff;}#sk-container-id-1 input.sk-hidden--visually {border: 0;clip: rect(1px 1px 1px 1px);clip: rect(1px, 1px, 1px, 1px);height: 1px;margin: -1px;overflow: hidden;padding: 0;position: absolute;width: 1px;}#sk-container-id-1 div.sk-estimator {font-family: monospace;background-color: #f0f8ff;border: 1px dotted black;border-radius: 0.25em;box-sizing: border-box;margin-bottom: 0.5em;}#sk-container-id-1 div.sk-estimator:hover {background-color: #d4ebff;}#sk-container-id-1 div.sk-parallel-item::after {content: \"\";width: 100%;border-bottom: 1px solid gray;flex-grow: 1;}#sk-container-id-1 div.sk-label:hover label.sk-toggleable__label {background-color: #d4ebff;}#sk-container-id-1 div.sk-serial::before {content: \"\";position: absolute;border-left: 1px solid gray;box-sizing: border-box;top: 0;bottom: 0;left: 50%;z-index: 0;}#sk-container-id-1 div.sk-serial {display: flex;flex-direction: column;align-items: center;background-color: white;padding-right: 0.2em;padding-left: 0.2em;position: relative;}#sk-container-id-1 div.sk-item {position: relative;z-index: 1;}#sk-container-id-1 div.sk-parallel {display: flex;align-items: stretch;justify-content: center;background-color: white;position: relative;}#sk-container-id-1 div.sk-item::before, #sk-container-id-1 div.sk-parallel-item::before {content: \"\";position: absolute;border-left: 1px solid gray;box-sizing: border-box;top: 0;bottom: 0;left: 50%;z-index: -1;}#sk-container-id-1 div.sk-parallel-item {display: flex;flex-direction: column;z-index: 1;position: relative;background-color: white;}#sk-container-id-1 div.sk-parallel-item:first-child::after {align-self: flex-end;width: 50%;}#sk-container-id-1 div.sk-parallel-item:last-child::after {align-self: flex-start;width: 50%;}#sk-container-id-1 div.sk-parallel-item:only-child::after {width: 0;}#sk-container-id-1 div.sk-dashed-wrapped {border: 1px dashed gray;margin: 0 0.4em 0.5em 0.4em;box-sizing: border-box;padding-bottom: 0.4em;background-color: white;}#sk-container-id-1 div.sk-label label {font-family: monospace;font-weight: bold;display: inline-block;line-height: 1.2em;}#sk-container-id-1 div.sk-label-container {text-align: center;}#sk-container-id-1 div.sk-container {/* jupyter's `normalize.less` sets `[hidden] { display: none; }` but bootstrap.min.css set `[hidden] { display: none !important; }` so we also need the `!important` here to be able to override the default hidden behavior on the sphinx rendered scikit-learn.org. See: https://github.com/scikit-learn/scikit-learn/issues/21755 */display: inline-block !important;position: relative;}#sk-container-id-1 div.sk-text-repr-fallback {display: none;}</style><div id=\"sk-container-id-1\" class=\"sk-top-container\"><div class=\"sk-text-repr-fallback\"><pre>LogisticRegression()</pre><b>In a Jupyter environment, please rerun this cell to show the HTML representation or trust the notebook. <br />On GitHub, the HTML representation is unable to render, please try loading this page with nbviewer.org.</b></div><div class=\"sk-container\" hidden><div class=\"sk-item\"><div class=\"sk-estimator sk-toggleable\"><input class=\"sk-toggleable__control sk-hidden--visually\" id=\"sk-estimator-id-1\" type=\"checkbox\" checked><label for=\"sk-estimator-id-1\" class=\"sk-toggleable__label sk-toggleable__label-arrow\">LogisticRegression</label><div class=\"sk-toggleable__content\"><pre>LogisticRegression()</pre></div></div></div></div></div>"
            ]
          },
          "metadata": {},
          "execution_count": 26
        }
      ],
      "source": [
        "log_regressor = LogisticRegression()\n",
        "log_regressor.fit(x_train, y_train)"
      ]
    },
    {
      "cell_type": "markdown",
      "id": "f833c54b",
      "metadata": {
        "papermill": {
          "duration": 0.018614,
          "end_time": "2023-09-09T17:19:09.579706",
          "exception": false,
          "start_time": "2023-09-09T17:19:09.561092",
          "status": "completed"
        },
        "tags": [],
        "id": "f833c54b"
      },
      "source": [
        "> **Predict Test Set Results :**"
      ]
    },
    {
      "cell_type": "code",
      "execution_count": null,
      "id": "8162c4f5",
      "metadata": {
        "execution": {
          "iopub.execute_input": "2023-09-09T17:19:09.623087Z",
          "iopub.status.busy": "2023-09-09T17:19:09.622284Z",
          "iopub.status.idle": "2023-09-09T17:19:09.632189Z",
          "shell.execute_reply": "2023-09-09T17:19:09.630278Z"
        },
        "papermill": {
          "duration": 0.036666,
          "end_time": "2023-09-09T17:19:09.634676",
          "exception": false,
          "start_time": "2023-09-09T17:19:09.598010",
          "status": "completed"
        },
        "tags": [],
        "id": "8162c4f5"
      },
      "outputs": [],
      "source": [
        "log_regr_y_pred = log_regressor.predict(x_test)"
      ]
    },
    {
      "cell_type": "code",
      "execution_count": null,
      "id": "a314d4ee",
      "metadata": {
        "execution": {
          "iopub.execute_input": "2023-09-09T17:19:09.680665Z",
          "iopub.status.busy": "2023-09-09T17:19:09.679090Z",
          "iopub.status.idle": "2023-09-09T17:19:09.692107Z",
          "shell.execute_reply": "2023-09-09T17:19:09.690982Z"
        },
        "papermill": {
          "duration": 0.03621,
          "end_time": "2023-09-09T17:19:09.694428",
          "exception": false,
          "start_time": "2023-09-09T17:19:09.658218",
          "status": "completed"
        },
        "tags": [],
        "id": "a314d4ee",
        "outputId": "f7c1e4a6-2ecb-4ef0-acb9-6d4d52232005",
        "colab": {
          "base_uri": "https://localhost:8080/",
          "height": 457
        }
      },
      "outputs": [
        {
          "output_type": "execute_result",
          "data": {
            "text/plain": [
              "    Actual  Predicted\n",
              "52       1          1\n",
              "58       1          0\n",
              "0        0          0\n",
              "59       1          1\n",
              "5        0          0\n",
              "50       1          1\n",
              "16       0          1\n",
              "12       0          0\n",
              "27       0          1\n",
              "63       1          1\n",
              "32       0          1\n",
              "9        0          0\n",
              "49       1          0"
            ],
            "text/html": [
              "\n",
              "  <div id=\"df-ae880e0c-0e1a-4026-90e6-16c6794c33b2\" class=\"colab-df-container\">\n",
              "    <div>\n",
              "<style scoped>\n",
              "    .dataframe tbody tr th:only-of-type {\n",
              "        vertical-align: middle;\n",
              "    }\n",
              "\n",
              "    .dataframe tbody tr th {\n",
              "        vertical-align: top;\n",
              "    }\n",
              "\n",
              "    .dataframe thead th {\n",
              "        text-align: right;\n",
              "    }\n",
              "</style>\n",
              "<table border=\"1\" class=\"dataframe\">\n",
              "  <thead>\n",
              "    <tr style=\"text-align: right;\">\n",
              "      <th></th>\n",
              "      <th>Actual</th>\n",
              "      <th>Predicted</th>\n",
              "    </tr>\n",
              "  </thead>\n",
              "  <tbody>\n",
              "    <tr>\n",
              "      <th>52</th>\n",
              "      <td>1</td>\n",
              "      <td>1</td>\n",
              "    </tr>\n",
              "    <tr>\n",
              "      <th>58</th>\n",
              "      <td>1</td>\n",
              "      <td>0</td>\n",
              "    </tr>\n",
              "    <tr>\n",
              "      <th>0</th>\n",
              "      <td>0</td>\n",
              "      <td>0</td>\n",
              "    </tr>\n",
              "    <tr>\n",
              "      <th>59</th>\n",
              "      <td>1</td>\n",
              "      <td>1</td>\n",
              "    </tr>\n",
              "    <tr>\n",
              "      <th>5</th>\n",
              "      <td>0</td>\n",
              "      <td>0</td>\n",
              "    </tr>\n",
              "    <tr>\n",
              "      <th>50</th>\n",
              "      <td>1</td>\n",
              "      <td>1</td>\n",
              "    </tr>\n",
              "    <tr>\n",
              "      <th>16</th>\n",
              "      <td>0</td>\n",
              "      <td>1</td>\n",
              "    </tr>\n",
              "    <tr>\n",
              "      <th>12</th>\n",
              "      <td>0</td>\n",
              "      <td>0</td>\n",
              "    </tr>\n",
              "    <tr>\n",
              "      <th>27</th>\n",
              "      <td>0</td>\n",
              "      <td>1</td>\n",
              "    </tr>\n",
              "    <tr>\n",
              "      <th>63</th>\n",
              "      <td>1</td>\n",
              "      <td>1</td>\n",
              "    </tr>\n",
              "    <tr>\n",
              "      <th>32</th>\n",
              "      <td>0</td>\n",
              "      <td>1</td>\n",
              "    </tr>\n",
              "    <tr>\n",
              "      <th>9</th>\n",
              "      <td>0</td>\n",
              "      <td>0</td>\n",
              "    </tr>\n",
              "    <tr>\n",
              "      <th>49</th>\n",
              "      <td>1</td>\n",
              "      <td>0</td>\n",
              "    </tr>\n",
              "  </tbody>\n",
              "</table>\n",
              "</div>\n",
              "    <div class=\"colab-df-buttons\">\n",
              "\n",
              "  <div class=\"colab-df-container\">\n",
              "    <button class=\"colab-df-convert\" onclick=\"convertToInteractive('df-ae880e0c-0e1a-4026-90e6-16c6794c33b2')\"\n",
              "            title=\"Convert this dataframe to an interactive table.\"\n",
              "            style=\"display:none;\">\n",
              "\n",
              "  <svg xmlns=\"http://www.w3.org/2000/svg\" height=\"24px\" viewBox=\"0 -960 960 960\">\n",
              "    <path d=\"M120-120v-720h720v720H120Zm60-500h600v-160H180v160Zm220 220h160v-160H400v160Zm0 220h160v-160H400v160ZM180-400h160v-160H180v160Zm440 0h160v-160H620v160ZM180-180h160v-160H180v160Zm440 0h160v-160H620v160Z\"/>\n",
              "  </svg>\n",
              "    </button>\n",
              "\n",
              "  <style>\n",
              "    .colab-df-container {\n",
              "      display:flex;\n",
              "      gap: 12px;\n",
              "    }\n",
              "\n",
              "    .colab-df-convert {\n",
              "      background-color: #E8F0FE;\n",
              "      border: none;\n",
              "      border-radius: 50%;\n",
              "      cursor: pointer;\n",
              "      display: none;\n",
              "      fill: #1967D2;\n",
              "      height: 32px;\n",
              "      padding: 0 0 0 0;\n",
              "      width: 32px;\n",
              "    }\n",
              "\n",
              "    .colab-df-convert:hover {\n",
              "      background-color: #E2EBFA;\n",
              "      box-shadow: 0px 1px 2px rgba(60, 64, 67, 0.3), 0px 1px 3px 1px rgba(60, 64, 67, 0.15);\n",
              "      fill: #174EA6;\n",
              "    }\n",
              "\n",
              "    .colab-df-buttons div {\n",
              "      margin-bottom: 4px;\n",
              "    }\n",
              "\n",
              "    [theme=dark] .colab-df-convert {\n",
              "      background-color: #3B4455;\n",
              "      fill: #D2E3FC;\n",
              "    }\n",
              "\n",
              "    [theme=dark] .colab-df-convert:hover {\n",
              "      background-color: #434B5C;\n",
              "      box-shadow: 0px 1px 3px 1px rgba(0, 0, 0, 0.15);\n",
              "      filter: drop-shadow(0px 1px 2px rgba(0, 0, 0, 0.3));\n",
              "      fill: #FFFFFF;\n",
              "    }\n",
              "  </style>\n",
              "\n",
              "    <script>\n",
              "      const buttonEl =\n",
              "        document.querySelector('#df-ae880e0c-0e1a-4026-90e6-16c6794c33b2 button.colab-df-convert');\n",
              "      buttonEl.style.display =\n",
              "        google.colab.kernel.accessAllowed ? 'block' : 'none';\n",
              "\n",
              "      async function convertToInteractive(key) {\n",
              "        const element = document.querySelector('#df-ae880e0c-0e1a-4026-90e6-16c6794c33b2');\n",
              "        const dataTable =\n",
              "          await google.colab.kernel.invokeFunction('convertToInteractive',\n",
              "                                                    [key], {});\n",
              "        if (!dataTable) return;\n",
              "\n",
              "        const docLinkHtml = 'Like what you see? Visit the ' +\n",
              "          '<a target=\"_blank\" href=https://colab.research.google.com/notebooks/data_table.ipynb>data table notebook</a>'\n",
              "          + ' to learn more about interactive tables.';\n",
              "        element.innerHTML = '';\n",
              "        dataTable['output_type'] = 'display_data';\n",
              "        await google.colab.output.renderOutput(dataTable, element);\n",
              "        const docLink = document.createElement('div');\n",
              "        docLink.innerHTML = docLinkHtml;\n",
              "        element.appendChild(docLink);\n",
              "      }\n",
              "    </script>\n",
              "  </div>\n",
              "\n",
              "\n",
              "<div id=\"df-05b3473f-8039-4255-9016-c6b0a681184e\">\n",
              "  <button class=\"colab-df-quickchart\" onclick=\"quickchart('df-05b3473f-8039-4255-9016-c6b0a681184e')\"\n",
              "            title=\"Suggest charts\"\n",
              "            style=\"display:none;\">\n",
              "\n",
              "<svg xmlns=\"http://www.w3.org/2000/svg\" height=\"24px\"viewBox=\"0 0 24 24\"\n",
              "     width=\"24px\">\n",
              "    <g>\n",
              "        <path d=\"M19 3H5c-1.1 0-2 .9-2 2v14c0 1.1.9 2 2 2h14c1.1 0 2-.9 2-2V5c0-1.1-.9-2-2-2zM9 17H7v-7h2v7zm4 0h-2V7h2v10zm4 0h-2v-4h2v4z\"/>\n",
              "    </g>\n",
              "</svg>\n",
              "  </button>\n",
              "\n",
              "<style>\n",
              "  .colab-df-quickchart {\n",
              "      --bg-color: #E8F0FE;\n",
              "      --fill-color: #1967D2;\n",
              "      --hover-bg-color: #E2EBFA;\n",
              "      --hover-fill-color: #174EA6;\n",
              "      --disabled-fill-color: #AAA;\n",
              "      --disabled-bg-color: #DDD;\n",
              "  }\n",
              "\n",
              "  [theme=dark] .colab-df-quickchart {\n",
              "      --bg-color: #3B4455;\n",
              "      --fill-color: #D2E3FC;\n",
              "      --hover-bg-color: #434B5C;\n",
              "      --hover-fill-color: #FFFFFF;\n",
              "      --disabled-bg-color: #3B4455;\n",
              "      --disabled-fill-color: #666;\n",
              "  }\n",
              "\n",
              "  .colab-df-quickchart {\n",
              "    background-color: var(--bg-color);\n",
              "    border: none;\n",
              "    border-radius: 50%;\n",
              "    cursor: pointer;\n",
              "    display: none;\n",
              "    fill: var(--fill-color);\n",
              "    height: 32px;\n",
              "    padding: 0;\n",
              "    width: 32px;\n",
              "  }\n",
              "\n",
              "  .colab-df-quickchart:hover {\n",
              "    background-color: var(--hover-bg-color);\n",
              "    box-shadow: 0 1px 2px rgba(60, 64, 67, 0.3), 0 1px 3px 1px rgba(60, 64, 67, 0.15);\n",
              "    fill: var(--button-hover-fill-color);\n",
              "  }\n",
              "\n",
              "  .colab-df-quickchart-complete:disabled,\n",
              "  .colab-df-quickchart-complete:disabled:hover {\n",
              "    background-color: var(--disabled-bg-color);\n",
              "    fill: var(--disabled-fill-color);\n",
              "    box-shadow: none;\n",
              "  }\n",
              "\n",
              "  .colab-df-spinner {\n",
              "    border: 2px solid var(--fill-color);\n",
              "    border-color: transparent;\n",
              "    border-bottom-color: var(--fill-color);\n",
              "    animation:\n",
              "      spin 1s steps(1) infinite;\n",
              "  }\n",
              "\n",
              "  @keyframes spin {\n",
              "    0% {\n",
              "      border-color: transparent;\n",
              "      border-bottom-color: var(--fill-color);\n",
              "      border-left-color: var(--fill-color);\n",
              "    }\n",
              "    20% {\n",
              "      border-color: transparent;\n",
              "      border-left-color: var(--fill-color);\n",
              "      border-top-color: var(--fill-color);\n",
              "    }\n",
              "    30% {\n",
              "      border-color: transparent;\n",
              "      border-left-color: var(--fill-color);\n",
              "      border-top-color: var(--fill-color);\n",
              "      border-right-color: var(--fill-color);\n",
              "    }\n",
              "    40% {\n",
              "      border-color: transparent;\n",
              "      border-right-color: var(--fill-color);\n",
              "      border-top-color: var(--fill-color);\n",
              "    }\n",
              "    60% {\n",
              "      border-color: transparent;\n",
              "      border-right-color: var(--fill-color);\n",
              "    }\n",
              "    80% {\n",
              "      border-color: transparent;\n",
              "      border-right-color: var(--fill-color);\n",
              "      border-bottom-color: var(--fill-color);\n",
              "    }\n",
              "    90% {\n",
              "      border-color: transparent;\n",
              "      border-bottom-color: var(--fill-color);\n",
              "    }\n",
              "  }\n",
              "</style>\n",
              "\n",
              "  <script>\n",
              "    async function quickchart(key) {\n",
              "      const quickchartButtonEl =\n",
              "        document.querySelector('#' + key + ' button');\n",
              "      quickchartButtonEl.disabled = true;  // To prevent multiple clicks.\n",
              "      quickchartButtonEl.classList.add('colab-df-spinner');\n",
              "      try {\n",
              "        const charts = await google.colab.kernel.invokeFunction(\n",
              "            'suggestCharts', [key], {});\n",
              "      } catch (error) {\n",
              "        console.error('Error during call to suggestCharts:', error);\n",
              "      }\n",
              "      quickchartButtonEl.classList.remove('colab-df-spinner');\n",
              "      quickchartButtonEl.classList.add('colab-df-quickchart-complete');\n",
              "    }\n",
              "    (() => {\n",
              "      let quickchartButtonEl =\n",
              "        document.querySelector('#df-05b3473f-8039-4255-9016-c6b0a681184e button');\n",
              "      quickchartButtonEl.style.display =\n",
              "        google.colab.kernel.accessAllowed ? 'block' : 'none';\n",
              "    })();\n",
              "  </script>\n",
              "</div>\n",
              "    </div>\n",
              "  </div>\n"
            ]
          },
          "metadata": {},
          "execution_count": 28
        }
      ],
      "source": [
        "pd.DataFrame({'Actual':y_test, 'Predicted':log_regr_y_pred})"
      ]
    },
    {
      "cell_type": "markdown",
      "id": "ddf6d30c",
      "metadata": {
        "papermill": {
          "duration": 0.019853,
          "end_time": "2023-09-09T17:19:09.736494",
          "exception": false,
          "start_time": "2023-09-09T17:19:09.716641",
          "status": "completed"
        },
        "tags": [],
        "id": "ddf6d30c"
      },
      "source": [
        "> **Evaluate Performance of the Model :**"
      ]
    },
    {
      "cell_type": "code",
      "execution_count": null,
      "id": "1bc67dd5",
      "metadata": {
        "execution": {
          "iopub.execute_input": "2023-09-09T17:19:09.779497Z",
          "iopub.status.busy": "2023-09-09T17:19:09.778412Z",
          "iopub.status.idle": "2023-09-09T17:19:09.784181Z",
          "shell.execute_reply": "2023-09-09T17:19:09.782843Z"
        },
        "papermill": {
          "duration": 0.030012,
          "end_time": "2023-09-09T17:19:09.786536",
          "exception": false,
          "start_time": "2023-09-09T17:19:09.756524",
          "status": "completed"
        },
        "tags": [],
        "id": "1bc67dd5"
      },
      "outputs": [],
      "source": [
        "from sklearn.metrics import accuracy_score, confusion_matrix, classification_report"
      ]
    },
    {
      "cell_type": "code",
      "execution_count": null,
      "id": "1ff45acf",
      "metadata": {
        "execution": {
          "iopub.execute_input": "2023-09-09T17:19:09.826481Z",
          "iopub.status.busy": "2023-09-09T17:19:09.826086Z",
          "iopub.status.idle": "2023-09-09T17:19:09.832887Z",
          "shell.execute_reply": "2023-09-09T17:19:09.831852Z"
        },
        "papermill": {
          "duration": 0.02867,
          "end_time": "2023-09-09T17:19:09.834689",
          "exception": false,
          "start_time": "2023-09-09T17:19:09.806019",
          "status": "completed"
        },
        "tags": [],
        "id": "1ff45acf",
        "outputId": "1bb37ab8-636e-4f97-ea8e-df774f4c8095",
        "colab": {
          "base_uri": "https://localhost:8080/"
        }
      },
      "outputs": [
        {
          "output_type": "execute_result",
          "data": {
            "text/plain": [
              "0.6153846153846154"
            ]
          },
          "metadata": {},
          "execution_count": 30
        }
      ],
      "source": [
        "log_regr_score = accuracy_score(y_test, log_regr_y_pred)\n",
        "log_regr_score"
      ]
    },
    {
      "cell_type": "code",
      "execution_count": null,
      "id": "ec25b616",
      "metadata": {
        "execution": {
          "iopub.execute_input": "2023-09-09T17:19:09.874487Z",
          "iopub.status.busy": "2023-09-09T17:19:09.873864Z",
          "iopub.status.idle": "2023-09-09T17:19:09.880311Z",
          "shell.execute_reply": "2023-09-09T17:19:09.879682Z"
        },
        "papermill": {
          "duration": 0.028629,
          "end_time": "2023-09-09T17:19:09.882124",
          "exception": false,
          "start_time": "2023-09-09T17:19:09.853495",
          "status": "completed"
        },
        "tags": [],
        "id": "ec25b616",
        "outputId": "71bbee42-6c79-43b9-f684-c232e3e855e2",
        "colab": {
          "base_uri": "https://localhost:8080/"
        }
      },
      "outputs": [
        {
          "output_type": "execute_result",
          "data": {
            "text/plain": [
              "array([[4, 3],\n",
              "       [2, 4]])"
            ]
          },
          "metadata": {},
          "execution_count": 31
        }
      ],
      "source": [
        "log_regr_mat = confusion_matrix(y_test, log_regr_y_pred)\n",
        "log_regr_mat"
      ]
    },
    {
      "cell_type": "code",
      "execution_count": null,
      "id": "eb33d1d5",
      "metadata": {
        "execution": {
          "iopub.execute_input": "2023-09-09T17:19:09.926492Z",
          "iopub.status.busy": "2023-09-09T17:19:09.925759Z",
          "iopub.status.idle": "2023-09-09T17:19:09.937513Z",
          "shell.execute_reply": "2023-09-09T17:19:09.936555Z"
        },
        "papermill": {
          "duration": 0.035162,
          "end_time": "2023-09-09T17:19:09.939602",
          "exception": false,
          "start_time": "2023-09-09T17:19:09.904440",
          "status": "completed"
        },
        "tags": [],
        "id": "eb33d1d5",
        "outputId": "c7f50543-09a4-45b9-d8d8-7146c0591e1a",
        "colab": {
          "base_uri": "https://localhost:8080/"
        }
      },
      "outputs": [
        {
          "output_type": "stream",
          "name": "stdout",
          "text": [
            "              precision    recall  f1-score   support\n",
            "\n",
            "           0       0.67      0.57      0.62         7\n",
            "           1       0.57      0.67      0.62         6\n",
            "\n",
            "    accuracy                           0.62        13\n",
            "   macro avg       0.62      0.62      0.62        13\n",
            "weighted avg       0.62      0.62      0.62        13\n",
            "\n"
          ]
        }
      ],
      "source": [
        "log_regr_report = classification_report(y_test, log_regr_y_pred)\n",
        "print(log_regr_report)"
      ]
    },
    {
      "cell_type": "markdown",
      "id": "12c816e4",
      "metadata": {
        "papermill": {
          "duration": 0.017725,
          "end_time": "2023-09-09T17:19:09.976821",
          "exception": false,
          "start_time": "2023-09-09T17:19:09.959096",
          "status": "completed"
        },
        "tags": [],
        "id": "12c816e4"
      },
      "source": [
        "# **Decision Tree**"
      ]
    },
    {
      "cell_type": "markdown",
      "id": "b7837eb6",
      "metadata": {
        "papermill": {
          "duration": 0.019701,
          "end_time": "2023-09-09T17:19:10.014619",
          "exception": false,
          "start_time": "2023-09-09T17:19:09.994918",
          "status": "completed"
        },
        "tags": [],
        "id": "b7837eb6"
      },
      "source": [
        "> **Create and Train Model :**"
      ]
    },
    {
      "cell_type": "code",
      "execution_count": null,
      "id": "384baf82",
      "metadata": {
        "execution": {
          "iopub.execute_input": "2023-09-09T17:19:10.055237Z",
          "iopub.status.busy": "2023-09-09T17:19:10.054584Z",
          "iopub.status.idle": "2023-09-09T17:19:10.219641Z",
          "shell.execute_reply": "2023-09-09T17:19:10.218738Z"
        },
        "papermill": {
          "duration": 0.188293,
          "end_time": "2023-09-09T17:19:10.222154",
          "exception": false,
          "start_time": "2023-09-09T17:19:10.033861",
          "status": "completed"
        },
        "tags": [],
        "id": "384baf82"
      },
      "outputs": [],
      "source": [
        "from sklearn.tree import DecisionTreeClassifier"
      ]
    },
    {
      "cell_type": "code",
      "execution_count": null,
      "id": "b2d468fd",
      "metadata": {
        "execution": {
          "iopub.execute_input": "2023-09-09T17:19:10.262275Z",
          "iopub.status.busy": "2023-09-09T17:19:10.261946Z",
          "iopub.status.idle": "2023-09-09T17:19:10.270395Z",
          "shell.execute_reply": "2023-09-09T17:19:10.269298Z"
        },
        "papermill": {
          "duration": 0.030521,
          "end_time": "2023-09-09T17:19:10.272354",
          "exception": false,
          "start_time": "2023-09-09T17:19:10.241833",
          "status": "completed"
        },
        "tags": [],
        "id": "b2d468fd"
      },
      "outputs": [],
      "source": [
        "dt_clf = DecisionTreeClassifier(criterion='entropy')\n",
        "dt_model = dt_clf.fit(x_train, y_train)"
      ]
    },
    {
      "cell_type": "markdown",
      "id": "a6abf7b9",
      "metadata": {
        "papermill": {
          "duration": 0.018035,
          "end_time": "2023-09-09T17:19:10.308732",
          "exception": false,
          "start_time": "2023-09-09T17:19:10.290697",
          "status": "completed"
        },
        "tags": [],
        "id": "a6abf7b9"
      },
      "source": [
        "> **Predict Test Set Results :**"
      ]
    },
    {
      "cell_type": "code",
      "execution_count": null,
      "id": "6aec8e0d",
      "metadata": {
        "execution": {
          "iopub.execute_input": "2023-09-09T17:19:10.346632Z",
          "iopub.status.busy": "2023-09-09T17:19:10.346256Z",
          "iopub.status.idle": "2023-09-09T17:19:10.352471Z",
          "shell.execute_reply": "2023-09-09T17:19:10.351633Z"
        },
        "papermill": {
          "duration": 0.027854,
          "end_time": "2023-09-09T17:19:10.354755",
          "exception": false,
          "start_time": "2023-09-09T17:19:10.326901",
          "status": "completed"
        },
        "tags": [],
        "id": "6aec8e0d"
      },
      "outputs": [],
      "source": [
        "dt_y_pred = dt_clf.predict(x_test)"
      ]
    },
    {
      "cell_type": "code",
      "execution_count": null,
      "id": "1a2d3578",
      "metadata": {
        "execution": {
          "iopub.execute_input": "2023-09-09T17:19:10.394305Z",
          "iopub.status.busy": "2023-09-09T17:19:10.393650Z",
          "iopub.status.idle": "2023-09-09T17:19:10.402498Z",
          "shell.execute_reply": "2023-09-09T17:19:10.401842Z"
        },
        "papermill": {
          "duration": 0.030384,
          "end_time": "2023-09-09T17:19:10.404195",
          "exception": false,
          "start_time": "2023-09-09T17:19:10.373811",
          "status": "completed"
        },
        "tags": [],
        "id": "1a2d3578",
        "outputId": "3ceb272f-84ce-4bd8-b727-004018561075",
        "colab": {
          "base_uri": "https://localhost:8080/",
          "height": 457
        }
      },
      "outputs": [
        {
          "output_type": "execute_result",
          "data": {
            "text/plain": [
              "    Actual  Predicted\n",
              "52       1          1\n",
              "58       1          0\n",
              "0        0          1\n",
              "59       1          1\n",
              "5        0          0\n",
              "50       1          1\n",
              "16       0          0\n",
              "12       0          0\n",
              "27       0          1\n",
              "63       1          1\n",
              "32       0          0\n",
              "9        0          1\n",
              "49       1          1"
            ],
            "text/html": [
              "\n",
              "  <div id=\"df-0aac904c-35c2-484d-bb65-10c7fd81c0bb\" class=\"colab-df-container\">\n",
              "    <div>\n",
              "<style scoped>\n",
              "    .dataframe tbody tr th:only-of-type {\n",
              "        vertical-align: middle;\n",
              "    }\n",
              "\n",
              "    .dataframe tbody tr th {\n",
              "        vertical-align: top;\n",
              "    }\n",
              "\n",
              "    .dataframe thead th {\n",
              "        text-align: right;\n",
              "    }\n",
              "</style>\n",
              "<table border=\"1\" class=\"dataframe\">\n",
              "  <thead>\n",
              "    <tr style=\"text-align: right;\">\n",
              "      <th></th>\n",
              "      <th>Actual</th>\n",
              "      <th>Predicted</th>\n",
              "    </tr>\n",
              "  </thead>\n",
              "  <tbody>\n",
              "    <tr>\n",
              "      <th>52</th>\n",
              "      <td>1</td>\n",
              "      <td>1</td>\n",
              "    </tr>\n",
              "    <tr>\n",
              "      <th>58</th>\n",
              "      <td>1</td>\n",
              "      <td>0</td>\n",
              "    </tr>\n",
              "    <tr>\n",
              "      <th>0</th>\n",
              "      <td>0</td>\n",
              "      <td>1</td>\n",
              "    </tr>\n",
              "    <tr>\n",
              "      <th>59</th>\n",
              "      <td>1</td>\n",
              "      <td>1</td>\n",
              "    </tr>\n",
              "    <tr>\n",
              "      <th>5</th>\n",
              "      <td>0</td>\n",
              "      <td>0</td>\n",
              "    </tr>\n",
              "    <tr>\n",
              "      <th>50</th>\n",
              "      <td>1</td>\n",
              "      <td>1</td>\n",
              "    </tr>\n",
              "    <tr>\n",
              "      <th>16</th>\n",
              "      <td>0</td>\n",
              "      <td>0</td>\n",
              "    </tr>\n",
              "    <tr>\n",
              "      <th>12</th>\n",
              "      <td>0</td>\n",
              "      <td>0</td>\n",
              "    </tr>\n",
              "    <tr>\n",
              "      <th>27</th>\n",
              "      <td>0</td>\n",
              "      <td>1</td>\n",
              "    </tr>\n",
              "    <tr>\n",
              "      <th>63</th>\n",
              "      <td>1</td>\n",
              "      <td>1</td>\n",
              "    </tr>\n",
              "    <tr>\n",
              "      <th>32</th>\n",
              "      <td>0</td>\n",
              "      <td>0</td>\n",
              "    </tr>\n",
              "    <tr>\n",
              "      <th>9</th>\n",
              "      <td>0</td>\n",
              "      <td>1</td>\n",
              "    </tr>\n",
              "    <tr>\n",
              "      <th>49</th>\n",
              "      <td>1</td>\n",
              "      <td>1</td>\n",
              "    </tr>\n",
              "  </tbody>\n",
              "</table>\n",
              "</div>\n",
              "    <div class=\"colab-df-buttons\">\n",
              "\n",
              "  <div class=\"colab-df-container\">\n",
              "    <button class=\"colab-df-convert\" onclick=\"convertToInteractive('df-0aac904c-35c2-484d-bb65-10c7fd81c0bb')\"\n",
              "            title=\"Convert this dataframe to an interactive table.\"\n",
              "            style=\"display:none;\">\n",
              "\n",
              "  <svg xmlns=\"http://www.w3.org/2000/svg\" height=\"24px\" viewBox=\"0 -960 960 960\">\n",
              "    <path d=\"M120-120v-720h720v720H120Zm60-500h600v-160H180v160Zm220 220h160v-160H400v160Zm0 220h160v-160H400v160ZM180-400h160v-160H180v160Zm440 0h160v-160H620v160ZM180-180h160v-160H180v160Zm440 0h160v-160H620v160Z\"/>\n",
              "  </svg>\n",
              "    </button>\n",
              "\n",
              "  <style>\n",
              "    .colab-df-container {\n",
              "      display:flex;\n",
              "      gap: 12px;\n",
              "    }\n",
              "\n",
              "    .colab-df-convert {\n",
              "      background-color: #E8F0FE;\n",
              "      border: none;\n",
              "      border-radius: 50%;\n",
              "      cursor: pointer;\n",
              "      display: none;\n",
              "      fill: #1967D2;\n",
              "      height: 32px;\n",
              "      padding: 0 0 0 0;\n",
              "      width: 32px;\n",
              "    }\n",
              "\n",
              "    .colab-df-convert:hover {\n",
              "      background-color: #E2EBFA;\n",
              "      box-shadow: 0px 1px 2px rgba(60, 64, 67, 0.3), 0px 1px 3px 1px rgba(60, 64, 67, 0.15);\n",
              "      fill: #174EA6;\n",
              "    }\n",
              "\n",
              "    .colab-df-buttons div {\n",
              "      margin-bottom: 4px;\n",
              "    }\n",
              "\n",
              "    [theme=dark] .colab-df-convert {\n",
              "      background-color: #3B4455;\n",
              "      fill: #D2E3FC;\n",
              "    }\n",
              "\n",
              "    [theme=dark] .colab-df-convert:hover {\n",
              "      background-color: #434B5C;\n",
              "      box-shadow: 0px 1px 3px 1px rgba(0, 0, 0, 0.15);\n",
              "      filter: drop-shadow(0px 1px 2px rgba(0, 0, 0, 0.3));\n",
              "      fill: #FFFFFF;\n",
              "    }\n",
              "  </style>\n",
              "\n",
              "    <script>\n",
              "      const buttonEl =\n",
              "        document.querySelector('#df-0aac904c-35c2-484d-bb65-10c7fd81c0bb button.colab-df-convert');\n",
              "      buttonEl.style.display =\n",
              "        google.colab.kernel.accessAllowed ? 'block' : 'none';\n",
              "\n",
              "      async function convertToInteractive(key) {\n",
              "        const element = document.querySelector('#df-0aac904c-35c2-484d-bb65-10c7fd81c0bb');\n",
              "        const dataTable =\n",
              "          await google.colab.kernel.invokeFunction('convertToInteractive',\n",
              "                                                    [key], {});\n",
              "        if (!dataTable) return;\n",
              "\n",
              "        const docLinkHtml = 'Like what you see? Visit the ' +\n",
              "          '<a target=\"_blank\" href=https://colab.research.google.com/notebooks/data_table.ipynb>data table notebook</a>'\n",
              "          + ' to learn more about interactive tables.';\n",
              "        element.innerHTML = '';\n",
              "        dataTable['output_type'] = 'display_data';\n",
              "        await google.colab.output.renderOutput(dataTable, element);\n",
              "        const docLink = document.createElement('div');\n",
              "        docLink.innerHTML = docLinkHtml;\n",
              "        element.appendChild(docLink);\n",
              "      }\n",
              "    </script>\n",
              "  </div>\n",
              "\n",
              "\n",
              "<div id=\"df-1bf29c3a-d2f1-4996-885b-86ad999bedd6\">\n",
              "  <button class=\"colab-df-quickchart\" onclick=\"quickchart('df-1bf29c3a-d2f1-4996-885b-86ad999bedd6')\"\n",
              "            title=\"Suggest charts\"\n",
              "            style=\"display:none;\">\n",
              "\n",
              "<svg xmlns=\"http://www.w3.org/2000/svg\" height=\"24px\"viewBox=\"0 0 24 24\"\n",
              "     width=\"24px\">\n",
              "    <g>\n",
              "        <path d=\"M19 3H5c-1.1 0-2 .9-2 2v14c0 1.1.9 2 2 2h14c1.1 0 2-.9 2-2V5c0-1.1-.9-2-2-2zM9 17H7v-7h2v7zm4 0h-2V7h2v10zm4 0h-2v-4h2v4z\"/>\n",
              "    </g>\n",
              "</svg>\n",
              "  </button>\n",
              "\n",
              "<style>\n",
              "  .colab-df-quickchart {\n",
              "      --bg-color: #E8F0FE;\n",
              "      --fill-color: #1967D2;\n",
              "      --hover-bg-color: #E2EBFA;\n",
              "      --hover-fill-color: #174EA6;\n",
              "      --disabled-fill-color: #AAA;\n",
              "      --disabled-bg-color: #DDD;\n",
              "  }\n",
              "\n",
              "  [theme=dark] .colab-df-quickchart {\n",
              "      --bg-color: #3B4455;\n",
              "      --fill-color: #D2E3FC;\n",
              "      --hover-bg-color: #434B5C;\n",
              "      --hover-fill-color: #FFFFFF;\n",
              "      --disabled-bg-color: #3B4455;\n",
              "      --disabled-fill-color: #666;\n",
              "  }\n",
              "\n",
              "  .colab-df-quickchart {\n",
              "    background-color: var(--bg-color);\n",
              "    border: none;\n",
              "    border-radius: 50%;\n",
              "    cursor: pointer;\n",
              "    display: none;\n",
              "    fill: var(--fill-color);\n",
              "    height: 32px;\n",
              "    padding: 0;\n",
              "    width: 32px;\n",
              "  }\n",
              "\n",
              "  .colab-df-quickchart:hover {\n",
              "    background-color: var(--hover-bg-color);\n",
              "    box-shadow: 0 1px 2px rgba(60, 64, 67, 0.3), 0 1px 3px 1px rgba(60, 64, 67, 0.15);\n",
              "    fill: var(--button-hover-fill-color);\n",
              "  }\n",
              "\n",
              "  .colab-df-quickchart-complete:disabled,\n",
              "  .colab-df-quickchart-complete:disabled:hover {\n",
              "    background-color: var(--disabled-bg-color);\n",
              "    fill: var(--disabled-fill-color);\n",
              "    box-shadow: none;\n",
              "  }\n",
              "\n",
              "  .colab-df-spinner {\n",
              "    border: 2px solid var(--fill-color);\n",
              "    border-color: transparent;\n",
              "    border-bottom-color: var(--fill-color);\n",
              "    animation:\n",
              "      spin 1s steps(1) infinite;\n",
              "  }\n",
              "\n",
              "  @keyframes spin {\n",
              "    0% {\n",
              "      border-color: transparent;\n",
              "      border-bottom-color: var(--fill-color);\n",
              "      border-left-color: var(--fill-color);\n",
              "    }\n",
              "    20% {\n",
              "      border-color: transparent;\n",
              "      border-left-color: var(--fill-color);\n",
              "      border-top-color: var(--fill-color);\n",
              "    }\n",
              "    30% {\n",
              "      border-color: transparent;\n",
              "      border-left-color: var(--fill-color);\n",
              "      border-top-color: var(--fill-color);\n",
              "      border-right-color: var(--fill-color);\n",
              "    }\n",
              "    40% {\n",
              "      border-color: transparent;\n",
              "      border-right-color: var(--fill-color);\n",
              "      border-top-color: var(--fill-color);\n",
              "    }\n",
              "    60% {\n",
              "      border-color: transparent;\n",
              "      border-right-color: var(--fill-color);\n",
              "    }\n",
              "    80% {\n",
              "      border-color: transparent;\n",
              "      border-right-color: var(--fill-color);\n",
              "      border-bottom-color: var(--fill-color);\n",
              "    }\n",
              "    90% {\n",
              "      border-color: transparent;\n",
              "      border-bottom-color: var(--fill-color);\n",
              "    }\n",
              "  }\n",
              "</style>\n",
              "\n",
              "  <script>\n",
              "    async function quickchart(key) {\n",
              "      const quickchartButtonEl =\n",
              "        document.querySelector('#' + key + ' button');\n",
              "      quickchartButtonEl.disabled = true;  // To prevent multiple clicks.\n",
              "      quickchartButtonEl.classList.add('colab-df-spinner');\n",
              "      try {\n",
              "        const charts = await google.colab.kernel.invokeFunction(\n",
              "            'suggestCharts', [key], {});\n",
              "      } catch (error) {\n",
              "        console.error('Error during call to suggestCharts:', error);\n",
              "      }\n",
              "      quickchartButtonEl.classList.remove('colab-df-spinner');\n",
              "      quickchartButtonEl.classList.add('colab-df-quickchart-complete');\n",
              "    }\n",
              "    (() => {\n",
              "      let quickchartButtonEl =\n",
              "        document.querySelector('#df-1bf29c3a-d2f1-4996-885b-86ad999bedd6 button');\n",
              "      quickchartButtonEl.style.display =\n",
              "        google.colab.kernel.accessAllowed ? 'block' : 'none';\n",
              "    })();\n",
              "  </script>\n",
              "</div>\n",
              "    </div>\n",
              "  </div>\n"
            ]
          },
          "metadata": {},
          "execution_count": 36
        }
      ],
      "source": [
        "pd.DataFrame({'Actual':y_test, 'Predicted':dt_y_pred})"
      ]
    },
    {
      "cell_type": "markdown",
      "id": "b0f84d82",
      "metadata": {
        "papermill": {
          "duration": 0.020577,
          "end_time": "2023-09-09T17:19:10.443644",
          "exception": false,
          "start_time": "2023-09-09T17:19:10.423067",
          "status": "completed"
        },
        "tags": [],
        "id": "b0f84d82"
      },
      "source": [
        "> **Evaluate Performance of the Model :**"
      ]
    },
    {
      "cell_type": "code",
      "execution_count": null,
      "id": "dc8656e6",
      "metadata": {
        "execution": {
          "iopub.execute_input": "2023-09-09T17:19:10.482629Z",
          "iopub.status.busy": "2023-09-09T17:19:10.482293Z",
          "iopub.status.idle": "2023-09-09T17:19:10.491023Z",
          "shell.execute_reply": "2023-09-09T17:19:10.489286Z"
        },
        "papermill": {
          "duration": 0.030892,
          "end_time": "2023-09-09T17:19:10.493402",
          "exception": false,
          "start_time": "2023-09-09T17:19:10.462510",
          "status": "completed"
        },
        "tags": [],
        "id": "dc8656e6",
        "outputId": "90829bd5-a606-4cf6-e607-e568f7e3227a",
        "colab": {
          "base_uri": "https://localhost:8080/"
        }
      },
      "outputs": [
        {
          "output_type": "execute_result",
          "data": {
            "text/plain": [
              "0.6923076923076923"
            ]
          },
          "metadata": {},
          "execution_count": 37
        }
      ],
      "source": [
        "dt_score = accuracy_score(y_test, dt_y_pred)\n",
        "dt_score"
      ]
    },
    {
      "cell_type": "code",
      "execution_count": null,
      "id": "c3445fb1",
      "metadata": {
        "execution": {
          "iopub.execute_input": "2023-09-09T17:19:10.533617Z",
          "iopub.status.busy": "2023-09-09T17:19:10.532852Z",
          "iopub.status.idle": "2023-09-09T17:19:10.539689Z",
          "shell.execute_reply": "2023-09-09T17:19:10.538752Z"
        },
        "papermill": {
          "duration": 0.028926,
          "end_time": "2023-09-09T17:19:10.541514",
          "exception": false,
          "start_time": "2023-09-09T17:19:10.512588",
          "status": "completed"
        },
        "tags": [],
        "id": "c3445fb1",
        "outputId": "f640d51e-bb0d-437a-baf1-dae4c61da23d",
        "colab": {
          "base_uri": "https://localhost:8080/"
        }
      },
      "outputs": [
        {
          "output_type": "execute_result",
          "data": {
            "text/plain": [
              "array([[4, 3],\n",
              "       [1, 5]])"
            ]
          },
          "metadata": {},
          "execution_count": 38
        }
      ],
      "source": [
        "dt_mat = confusion_matrix(y_test, dt_y_pred)\n",
        "dt_mat"
      ]
    },
    {
      "cell_type": "code",
      "execution_count": null,
      "id": "3f8a887c",
      "metadata": {
        "execution": {
          "iopub.execute_input": "2023-09-09T17:19:10.582662Z",
          "iopub.status.busy": "2023-09-09T17:19:10.582139Z",
          "iopub.status.idle": "2023-09-09T17:19:10.592253Z",
          "shell.execute_reply": "2023-09-09T17:19:10.591331Z"
        },
        "papermill": {
          "duration": 0.032853,
          "end_time": "2023-09-09T17:19:10.594726",
          "exception": false,
          "start_time": "2023-09-09T17:19:10.561873",
          "status": "completed"
        },
        "tags": [],
        "id": "3f8a887c",
        "outputId": "b0c0a995-01c0-4739-8dad-16fe9ea3bb1c",
        "colab": {
          "base_uri": "https://localhost:8080/"
        }
      },
      "outputs": [
        {
          "output_type": "stream",
          "name": "stdout",
          "text": [
            "              precision    recall  f1-score   support\n",
            "\n",
            "           0       0.80      0.57      0.67         7\n",
            "           1       0.62      0.83      0.71         6\n",
            "\n",
            "    accuracy                           0.69        13\n",
            "   macro avg       0.71      0.70      0.69        13\n",
            "weighted avg       0.72      0.69      0.69        13\n",
            "\n"
          ]
        }
      ],
      "source": [
        "dt_report = classification_report(y_test, dt_y_pred)\n",
        "print(dt_report)"
      ]
    },
    {
      "cell_type": "markdown",
      "id": "8dbbbf63",
      "metadata": {
        "papermill": {
          "duration": 0.019319,
          "end_time": "2023-09-09T17:19:10.633818",
          "exception": false,
          "start_time": "2023-09-09T17:19:10.614499",
          "status": "completed"
        },
        "tags": [],
        "id": "8dbbbf63"
      },
      "source": [
        "> **Plot the Tree :**"
      ]
    },
    {
      "cell_type": "code",
      "execution_count": null,
      "id": "ca03a97f",
      "metadata": {
        "execution": {
          "iopub.execute_input": "2023-09-09T17:19:10.675135Z",
          "iopub.status.busy": "2023-09-09T17:19:10.674695Z",
          "iopub.status.idle": "2023-09-09T17:19:12.097183Z",
          "shell.execute_reply": "2023-09-09T17:19:12.095867Z"
        },
        "papermill": {
          "duration": 1.446299,
          "end_time": "2023-09-09T17:19:12.100222",
          "exception": false,
          "start_time": "2023-09-09T17:19:10.653923",
          "status": "completed"
        },
        "tags": [],
        "id": "ca03a97f",
        "outputId": "53b2b6cc-d951-41ab-96ba-c3a9df580172",
        "colab": {
          "base_uri": "https://localhost:8080/",
          "height": 1000
        }
      },
      "outputs": [
        {
          "output_type": "execute_result",
          "data": {
            "text/plain": [
              "[Text(0.4782608695652174, 0.95, 'x[1] <= 2.5\\nentropy = 1.0\\nsamples = 49\\nvalue = [24, 25]'),\n",
              " Text(0.2608695652173913, 0.85, 'x[2] <= 2.5\\nentropy = 0.896\\nsamples = 16\\nvalue = [5, 11]'),\n",
              " Text(0.17391304347826086, 0.75, 'x[1] <= 0.5\\nentropy = 0.503\\nsamples = 9\\nvalue = [1, 8]'),\n",
              " Text(0.13043478260869565, 0.65, 'x[2] <= 1.5\\nentropy = 0.722\\nsamples = 5\\nvalue = [1, 4]'),\n",
              " Text(0.08695652173913043, 0.55, 'x[2] <= 0.5\\nentropy = 0.918\\nsamples = 3\\nvalue = [1, 2]'),\n",
              " Text(0.043478260869565216, 0.45, 'entropy = 0.0\\nsamples = 1\\nvalue = [0, 1]'),\n",
              " Text(0.13043478260869565, 0.45, 'entropy = 1.0\\nsamples = 2\\nvalue = [1, 1]'),\n",
              " Text(0.17391304347826086, 0.55, 'entropy = 0.0\\nsamples = 2\\nvalue = [0, 2]'),\n",
              " Text(0.21739130434782608, 0.65, 'entropy = 0.0\\nsamples = 4\\nvalue = [0, 4]'),\n",
              " Text(0.34782608695652173, 0.75, 'x[3] <= 0.5\\nentropy = 0.985\\nsamples = 7\\nvalue = [4, 3]'),\n",
              " Text(0.30434782608695654, 0.65, 'entropy = 0.0\\nsamples = 1\\nvalue = [1, 0]'),\n",
              " Text(0.391304347826087, 0.65, 'x[0] <= 0.5\\nentropy = 1.0\\nsamples = 6\\nvalue = [3, 3]'),\n",
              " Text(0.34782608695652173, 0.55, 'entropy = 0.0\\nsamples = 2\\nvalue = [0, 2]'),\n",
              " Text(0.43478260869565216, 0.55, 'x[2] <= 3.5\\nentropy = 0.811\\nsamples = 4\\nvalue = [3, 1]'),\n",
              " Text(0.391304347826087, 0.45, 'x[3] <= 1.5\\nentropy = 1.0\\nsamples = 2\\nvalue = [1, 1]'),\n",
              " Text(0.34782608695652173, 0.35, 'entropy = 0.0\\nsamples = 1\\nvalue = [1, 0]'),\n",
              " Text(0.43478260869565216, 0.35, 'entropy = 0.0\\nsamples = 1\\nvalue = [0, 1]'),\n",
              " Text(0.4782608695652174, 0.45, 'entropy = 0.0\\nsamples = 2\\nvalue = [2, 0]'),\n",
              " Text(0.6956521739130435, 0.85, 'x[1] <= 4.5\\nentropy = 0.983\\nsamples = 33\\nvalue = [19, 14]'),\n",
              " Text(0.6086956521739131, 0.75, 'x[0] <= 1.5\\nentropy = 0.75\\nsamples = 14\\nvalue = [11, 3]'),\n",
              " Text(0.5652173913043478, 0.65, 'x[2] <= 0.5\\nentropy = 0.918\\nsamples = 9\\nvalue = [6, 3]'),\n",
              " Text(0.5217391304347826, 0.55, 'entropy = 0.0\\nsamples = 3\\nvalue = [3, 0]'),\n",
              " Text(0.6086956521739131, 0.55, 'x[3] <= 1.5\\nentropy = 1.0\\nsamples = 6\\nvalue = [3, 3]'),\n",
              " Text(0.5652173913043478, 0.45, 'x[0] <= 0.5\\nentropy = 0.811\\nsamples = 4\\nvalue = [3, 1]'),\n",
              " Text(0.5217391304347826, 0.35, 'entropy = 0.0\\nsamples = 3\\nvalue = [3, 0]'),\n",
              " Text(0.6086956521739131, 0.35, 'entropy = 0.0\\nsamples = 1\\nvalue = [0, 1]'),\n",
              " Text(0.6521739130434783, 0.45, 'entropy = 0.0\\nsamples = 2\\nvalue = [0, 2]'),\n",
              " Text(0.6521739130434783, 0.65, 'entropy = 0.0\\nsamples = 5\\nvalue = [5, 0]'),\n",
              " Text(0.782608695652174, 0.75, 'x[3] <= 1.5\\nentropy = 0.982\\nsamples = 19\\nvalue = [8, 11]'),\n",
              " Text(0.7391304347826086, 0.65, 'x[2] <= 0.5\\nentropy = 1.0\\nsamples = 16\\nvalue = [8, 8]'),\n",
              " Text(0.6956521739130435, 0.55, 'entropy = 0.0\\nsamples = 2\\nvalue = [2, 0]'),\n",
              " Text(0.782608695652174, 0.55, 'x[2] <= 1.5\\nentropy = 0.985\\nsamples = 14\\nvalue = [6, 8]'),\n",
              " Text(0.7391304347826086, 0.45, 'entropy = 0.0\\nsamples = 3\\nvalue = [0, 3]'),\n",
              " Text(0.8260869565217391, 0.45, 'x[2] <= 2.5\\nentropy = 0.994\\nsamples = 11\\nvalue = [6, 5]'),\n",
              " Text(0.782608695652174, 0.35, 'entropy = 0.0\\nsamples = 3\\nvalue = [3, 0]'),\n",
              " Text(0.8695652173913043, 0.35, 'x[3] <= 0.5\\nentropy = 0.954\\nsamples = 8\\nvalue = [3, 5]'),\n",
              " Text(0.8260869565217391, 0.25, 'entropy = 0.0\\nsamples = 3\\nvalue = [0, 3]'),\n",
              " Text(0.9130434782608695, 0.25, 'x[0] <= 1.0\\nentropy = 0.971\\nsamples = 5\\nvalue = [3, 2]'),\n",
              " Text(0.8695652173913043, 0.15, 'x[2] <= 4.0\\nentropy = 0.918\\nsamples = 3\\nvalue = [1, 2]'),\n",
              " Text(0.8260869565217391, 0.05, 'entropy = 1.0\\nsamples = 2\\nvalue = [1, 1]'),\n",
              " Text(0.9130434782608695, 0.05, 'entropy = 0.0\\nsamples = 1\\nvalue = [0, 1]'),\n",
              " Text(0.9565217391304348, 0.15, 'entropy = 0.0\\nsamples = 2\\nvalue = [2, 0]'),\n",
              " Text(0.8260869565217391, 0.65, 'entropy = 0.0\\nsamples = 3\\nvalue = [0, 3]')]"
            ]
          },
          "metadata": {},
          "execution_count": 40
        },
        {
          "output_type": "display_data",
          "data": {
            "text/plain": [
              "<Figure size 1500x1000 with 1 Axes>"
            ],
            "image/png": "[encoded data removed]"
          },
          "metadata": {}
        }
      ],
      "source": [
        "from sklearn import tree\n",
        "\n",
        "plt.figure(figsize=(15,10))\n",
        "tree.plot_tree(dt_model, filled=True)"
      ]
    },
    {
      "cell_type": "markdown",
      "id": "a5d3cbee",
      "metadata": {
        "papermill": {
          "duration": 0.021768,
          "end_time": "2023-09-09T17:19:12.144579",
          "exception": false,
          "start_time": "2023-09-09T17:19:12.122811",
          "status": "completed"
        },
        "tags": [],
        "id": "a5d3cbee"
      },
      "source": [
        "# **Random Forest Model**"
      ]
    },
    {
      "cell_type": "markdown",
      "id": "64a54b06",
      "metadata": {
        "papermill": {
          "duration": 0.021399,
          "end_time": "2023-09-09T17:19:12.187821",
          "exception": false,
          "start_time": "2023-09-09T17:19:12.166422",
          "status": "completed"
        },
        "tags": [],
        "id": "64a54b06"
      },
      "source": [
        "> **Create and Train the Model :**"
      ]
    },
    {
      "cell_type": "code",
      "execution_count": null,
      "id": "50d62f31",
      "metadata": {
        "execution": {
          "iopub.execute_input": "2023-09-09T17:19:12.233871Z",
          "iopub.status.busy": "2023-09-09T17:19:12.233267Z",
          "iopub.status.idle": "2023-09-09T17:19:12.349517Z",
          "shell.execute_reply": "2023-09-09T17:19:12.348583Z"
        },
        "papermill": {
          "duration": 0.141788,
          "end_time": "2023-09-09T17:19:12.351850",
          "exception": false,
          "start_time": "2023-09-09T17:19:12.210062",
          "status": "completed"
        },
        "tags": [],
        "id": "50d62f31"
      },
      "outputs": [],
      "source": [
        "from sklearn.ensemble import RandomForestClassifier"
      ]
    },
    {
      "cell_type": "code",
      "execution_count": null,
      "id": "1d18be7c",
      "metadata": {
        "execution": {
          "iopub.execute_input": "2023-09-09T17:19:12.397218Z",
          "iopub.status.busy": "2023-09-09T17:19:12.396540Z",
          "iopub.status.idle": "2023-09-09T17:19:12.419886Z",
          "shell.execute_reply": "2023-09-09T17:19:12.418732Z"
        },
        "papermill": {
          "duration": 0.048476,
          "end_time": "2023-09-09T17:19:12.421838",
          "exception": false,
          "start_time": "2023-09-09T17:19:12.373362",
          "status": "completed"
        },
        "tags": [],
        "id": "1d18be7c",
        "outputId": "4237070f-012d-428f-813f-89692cf206dd",
        "colab": {
          "base_uri": "https://localhost:8080/",
          "height": 74
        }
      },
      "outputs": [
        {
          "output_type": "execute_result",
          "data": {
            "text/plain": [
              "RandomForestClassifier(criterion='entropy', n_estimators=10)"
            ],
            "text/html": [
              "<style>#sk-container-id-2 {color: black;background-color: white;}#sk-container-id-2 pre{padding: 0;}#sk-container-id-2 div.sk-toggleable {background-color: white;}#sk-container-id-2 label.sk-toggleable__label {cursor: pointer;display: block;width: 100%;margin-bottom: 0;padding: 0.3em;box-sizing: border-box;text-align: center;}#sk-container-id-2 label.sk-toggleable__label-arrow:before {content: \"▸\";float: left;margin-right: 0.25em;color: #696969;}#sk-container-id-2 label.sk-toggleable__label-arrow:hover:before {color: black;}#sk-container-id-2 div.sk-estimator:hover label.sk-toggleable__label-arrow:before {color: black;}#sk-container-id-2 div.sk-toggleable__content {max-height: 0;max-width: 0;overflow: hidden;text-align: left;background-color: #f0f8ff;}#sk-container-id-2 div.sk-toggleable__content pre {margin: 0.2em;color: black;border-radius: 0.25em;background-color: #f0f8ff;}#sk-container-id-2 input.sk-toggleable__control:checked~div.sk-toggleable__content {max-height: 200px;max-width: 100%;overflow: auto;}#sk-container-id-2 input.sk-toggleable__control:checked~label.sk-toggleable__label-arrow:before {content: \"▾\";}#sk-container-id-2 div.sk-estimator input.sk-toggleable__control:checked~label.sk-toggleable__label {background-color: #d4ebff;}#sk-container-id-2 div.sk-label input.sk-toggleable__control:checked~label.sk-toggleable__label {background-color: #d4ebff;}#sk-container-id-2 input.sk-hidden--visually {border: 0;clip: rect(1px 1px 1px 1px);clip: rect(1px, 1px, 1px, 1px);height: 1px;margin: -1px;overflow: hidden;padding: 0;position: absolute;width: 1px;}#sk-container-id-2 div.sk-estimator {font-family: monospace;background-color: #f0f8ff;border: 1px dotted black;border-radius: 0.25em;box-sizing: border-box;margin-bottom: 0.5em;}#sk-container-id-2 div.sk-estimator:hover {background-color: #d4ebff;}#sk-container-id-2 div.sk-parallel-item::after {content: \"\";width: 100%;border-bottom: 1px solid gray;flex-grow: 1;}#sk-container-id-2 div.sk-label:hover label.sk-toggleable__label {background-color: #d4ebff;}#sk-container-id-2 div.sk-serial::before {content: \"\";position: absolute;border-left: 1px solid gray;box-sizing: border-box;top: 0;bottom: 0;left: 50%;z-index: 0;}#sk-container-id-2 div.sk-serial {display: flex;flex-direction: column;align-items: center;background-color: white;padding-right: 0.2em;padding-left: 0.2em;position: relative;}#sk-container-id-2 div.sk-item {position: relative;z-index: 1;}#sk-container-id-2 div.sk-parallel {display: flex;align-items: stretch;justify-content: center;background-color: white;position: relative;}#sk-container-id-2 div.sk-item::before, #sk-container-id-2 div.sk-parallel-item::before {content: \"\";position: absolute;border-left: 1px solid gray;box-sizing: border-box;top: 0;bottom: 0;left: 50%;z-index: -1;}#sk-container-id-2 div.sk-parallel-item {display: flex;flex-direction: column;z-index: 1;position: relative;background-color: white;}#sk-container-id-2 div.sk-parallel-item:first-child::after {align-self: flex-end;width: 50%;}#sk-container-id-2 div.sk-parallel-item:last-child::after {align-self: flex-start;width: 50%;}#sk-container-id-2 div.sk-parallel-item:only-child::after {width: 0;}#sk-container-id-2 div.sk-dashed-wrapped {border: 1px dashed gray;margin: 0 0.4em 0.5em 0.4em;box-sizing: border-box;padding-bottom: 0.4em;background-color: white;}#sk-container-id-2 div.sk-label label {font-family: monospace;font-weight: bold;display: inline-block;line-height: 1.2em;}#sk-container-id-2 div.sk-label-container {text-align: center;}#sk-container-id-2 div.sk-container {/* jupyter's `normalize.less` sets `[hidden] { display: none; }` but bootstrap.min.css set `[hidden] { display: none !important; }` so we also need the `!important` here to be able to override the default hidden behavior on the sphinx rendered scikit-learn.org. See: https://github.com/scikit-learn/scikit-learn/issues/21755 */display: inline-block !important;position: relative;}#sk-container-id-2 div.sk-text-repr-fallback {display: none;}</style><div id=\"sk-container-id-2\" class=\"sk-top-container\"><div class=\"sk-text-repr-fallback\"><pre>RandomForestClassifier(criterion=&#x27;entropy&#x27;, n_estimators=10)</pre><b>In a Jupyter environment, please rerun this cell to show the HTML representation or trust the notebook. <br />On GitHub, the HTML representation is unable to render, please try loading this page with nbviewer.org.</b></div><div class=\"sk-container\" hidden><div class=\"sk-item\"><div class=\"sk-estimator sk-toggleable\"><input class=\"sk-toggleable__control sk-hidden--visually\" id=\"sk-estimator-id-2\" type=\"checkbox\" checked><label for=\"sk-estimator-id-2\" class=\"sk-toggleable__label sk-toggleable__label-arrow\">RandomForestClassifier</label><div class=\"sk-toggleable__content\"><pre>RandomForestClassifier(criterion=&#x27;entropy&#x27;, n_estimators=10)</pre></div></div></div></div></div>"
            ]
          },
          "metadata": {},
          "execution_count": 42
        }
      ],
      "source": [
        "rf_clf = RandomForestClassifier(n_estimators=10, criterion='entropy')\n",
        "rf_clf.fit(x_train, y_train)"
      ]
    },
    {
      "cell_type": "markdown",
      "id": "c651264a",
      "metadata": {
        "papermill": {
          "duration": 0.021483,
          "end_time": "2023-09-09T17:19:12.465596",
          "exception": false,
          "start_time": "2023-09-09T17:19:12.444113",
          "status": "completed"
        },
        "tags": [],
        "id": "c651264a"
      },
      "source": [
        "> **Predict Test Set Results :**"
      ]
    },
    {
      "cell_type": "code",
      "execution_count": null,
      "id": "f729a25f",
      "metadata": {
        "execution": {
          "iopub.execute_input": "2023-09-09T17:19:12.510978Z",
          "iopub.status.busy": "2023-09-09T17:19:12.510665Z",
          "iopub.status.idle": "2023-09-09T17:19:12.519047Z",
          "shell.execute_reply": "2023-09-09T17:19:12.517730Z"
        },
        "papermill": {
          "duration": 0.032774,
          "end_time": "2023-09-09T17:19:12.520915",
          "exception": false,
          "start_time": "2023-09-09T17:19:12.488141",
          "status": "completed"
        },
        "tags": [],
        "id": "f729a25f"
      },
      "outputs": [],
      "source": [
        "rf_y_pred = rf_clf.predict(x_test)"
      ]
    },
    {
      "cell_type": "code",
      "execution_count": null,
      "id": "d2f44908",
      "metadata": {
        "execution": {
          "iopub.execute_input": "2023-09-09T17:19:12.567055Z",
          "iopub.status.busy": "2023-09-09T17:19:12.566653Z",
          "iopub.status.idle": "2023-09-09T17:19:12.575631Z",
          "shell.execute_reply": "2023-09-09T17:19:12.574721Z"
        },
        "papermill": {
          "duration": 0.034885,
          "end_time": "2023-09-09T17:19:12.577590",
          "exception": false,
          "start_time": "2023-09-09T17:19:12.542705",
          "status": "completed"
        },
        "tags": [],
        "id": "d2f44908",
        "outputId": "0841c600-b64c-456c-d28c-62a2148d2d55",
        "colab": {
          "base_uri": "https://localhost:8080/",
          "height": 457
        }
      },
      "outputs": [
        {
          "output_type": "execute_result",
          "data": {
            "text/plain": [
              "    Actual  Predicted\n",
              "52       1          1\n",
              "58       1          0\n",
              "0        0          1\n",
              "59       1          1\n",
              "5        0          1\n",
              "50       1          1\n",
              "16       0          0\n",
              "12       0          0\n",
              "27       0          1\n",
              "63       1          1\n",
              "32       0          0\n",
              "9        0          0\n",
              "49       1          1"
            ],
            "text/html": [
              "\n",
              "  <div id=\"df-bff10d3f-333e-46e0-8025-13cfd86c0c08\" class=\"colab-df-container\">\n",
              "    <div>\n",
              "<style scoped>\n",
              "    .dataframe tbody tr th:only-of-type {\n",
              "        vertical-align: middle;\n",
              "    }\n",
              "\n",
              "    .dataframe tbody tr th {\n",
              "        vertical-align: top;\n",
              "    }\n",
              "\n",
              "    .dataframe thead th {\n",
              "        text-align: right;\n",
              "    }\n",
              "</style>\n",
              "<table border=\"1\" class=\"dataframe\">\n",
              "  <thead>\n",
              "    <tr style=\"text-align: right;\">\n",
              "      <th></th>\n",
              "      <th>Actual</th>\n",
              "      <th>Predicted</th>\n",
              "    </tr>\n",
              "  </thead>\n",
              "  <tbody>\n",
              "    <tr>\n",
              "      <th>52</th>\n",
              "      <td>1</td>\n",
              "      <td>1</td>\n",
              "    </tr>\n",
              "    <tr>\n",
              "      <th>58</th>\n",
              "      <td>1</td>\n",
              "      <td>0</td>\n",
              "    </tr>\n",
              "    <tr>\n",
              "      <th>0</th>\n",
              "      <td>0</td>\n",
              "      <td>1</td>\n",
              "    </tr>\n",
              "    <tr>\n",
              "      <th>59</th>\n",
              "      <td>1</td>\n",
              "      <td>1</td>\n",
              "    </tr>\n",
              "    <tr>\n",
              "      <th>5</th>\n",
              "      <td>0</td>\n",
              "      <td>1</td>\n",
              "    </tr>\n",
              "    <tr>\n",
              "      <th>50</th>\n",
              "      <td>1</td>\n",
              "      <td>1</td>\n",
              "    </tr>\n",
              "    <tr>\n",
              "      <th>16</th>\n",
              "      <td>0</td>\n",
              "      <td>0</td>\n",
              "    </tr>\n",
              "    <tr>\n",
              "      <th>12</th>\n",
              "      <td>0</td>\n",
              "      <td>0</td>\n",
              "    </tr>\n",
              "    <tr>\n",
              "      <th>27</th>\n",
              "      <td>0</td>\n",
              "      <td>1</td>\n",
              "    </tr>\n",
              "    <tr>\n",
              "      <th>63</th>\n",
              "      <td>1</td>\n",
              "      <td>1</td>\n",
              "    </tr>\n",
              "    <tr>\n",
              "      <th>32</th>\n",
              "      <td>0</td>\n",
              "      <td>0</td>\n",
              "    </tr>\n",
              "    <tr>\n",
              "      <th>9</th>\n",
              "      <td>0</td>\n",
              "      <td>0</td>\n",
              "    </tr>\n",
              "    <tr>\n",
              "      <th>49</th>\n",
              "      <td>1</td>\n",
              "      <td>1</td>\n",
              "    </tr>\n",
              "  </tbody>\n",
              "</table>\n",
              "</div>\n",
              "    <div class=\"colab-df-buttons\">\n",
              "\n",
              "  <div class=\"colab-df-container\">\n",
              "    <button class=\"colab-df-convert\" onclick=\"convertToInteractive('df-bff10d3f-333e-46e0-8025-13cfd86c0c08')\"\n",
              "            title=\"Convert this dataframe to an interactive table.\"\n",
              "            style=\"display:none;\">\n",
              "\n",
              "  <svg xmlns=\"http://www.w3.org/2000/svg\" height=\"24px\" viewBox=\"0 -960 960 960\">\n",
              "    <path d=\"M120-120v-720h720v720H120Zm60-500h600v-160H180v160Zm220 220h160v-160H400v160Zm0 220h160v-160H400v160ZM180-400h160v-160H180v160Zm440 0h160v-160H620v160ZM180-180h160v-160H180v160Zm440 0h160v-160H620v160Z\"/>\n",
              "  </svg>\n",
              "    </button>\n",
              "\n",
              "  <style>\n",
              "    .colab-df-container {\n",
              "      display:flex;\n",
              "      gap: 12px;\n",
              "    }\n",
              "\n",
              "    .colab-df-convert {\n",
              "      background-color: #E8F0FE;\n",
              "      border: none;\n",
              "      border-radius: 50%;\n",
              "      cursor: pointer;\n",
              "      display: none;\n",
              "      fill: #1967D2;\n",
              "      height: 32px;\n",
              "      padding: 0 0 0 0;\n",
              "      width: 32px;\n",
              "    }\n",
              "\n",
              "    .colab-df-convert:hover {\n",
              "      background-color: #E2EBFA;\n",
              "      box-shadow: 0px 1px 2px rgba(60, 64, 67, 0.3), 0px 1px 3px 1px rgba(60, 64, 67, 0.15);\n",
              "      fill: #174EA6;\n",
              "    }\n",
              "\n",
              "    .colab-df-buttons div {\n",
              "      margin-bottom: 4px;\n",
              "    }\n",
              "\n",
              "    [theme=dark] .colab-df-convert {\n",
              "      background-color: #3B4455;\n",
              "      fill: #D2E3FC;\n",
              "    }\n",
              "\n",
              "    [theme=dark] .colab-df-convert:hover {\n",
              "      background-color: #434B5C;\n",
              "      box-shadow: 0px 1px 3px 1px rgba(0, 0, 0, 0.15);\n",
              "      filter: drop-shadow(0px 1px 2px rgba(0, 0, 0, 0.3));\n",
              "      fill: #FFFFFF;\n",
              "    }\n",
              "  </style>\n",
              "\n",
              "    <script>\n",
              "      const buttonEl =\n",
              "        document.querySelector('#df-bff10d3f-333e-46e0-8025-13cfd86c0c08 button.colab-df-convert');\n",
              "      buttonEl.style.display =\n",
              "        google.colab.kernel.accessAllowed ? 'block' : 'none';\n",
              "\n",
              "      async function convertToInteractive(key) {\n",
              "        const element = document.querySelector('#df-bff10d3f-333e-46e0-8025-13cfd86c0c08');\n",
              "        const dataTable =\n",
              "          await google.colab.kernel.invokeFunction('convertToInteractive',\n",
              "                                                    [key], {});\n",
              "        if (!dataTable) return;\n",
              "\n",
              "        const docLinkHtml = 'Like what you see? Visit the ' +\n",
              "          '<a target=\"_blank\" href=https://colab.research.google.com/notebooks/data_table.ipynb>data table notebook</a>'\n",
              "          + ' to learn more about interactive tables.';\n",
              "        element.innerHTML = '';\n",
              "        dataTable['output_type'] = 'display_data';\n",
              "        await google.colab.output.renderOutput(dataTable, element);\n",
              "        const docLink = document.createElement('div');\n",
              "        docLink.innerHTML = docLinkHtml;\n",
              "        element.appendChild(docLink);\n",
              "      }\n",
              "    </script>\n",
              "  </div>\n",
              "\n",
              "\n",
              "<div id=\"df-bddf5b9c-95b7-47e9-8575-ab61ed738180\">\n",
              "  <button class=\"colab-df-quickchart\" onclick=\"quickchart('df-bddf5b9c-95b7-47e9-8575-ab61ed738180')\"\n",
              "            title=\"Suggest charts\"\n",
              "            style=\"display:none;\">\n",
              "\n",
              "<svg xmlns=\"http://www.w3.org/2000/svg\" height=\"24px\"viewBox=\"0 0 24 24\"\n",
              "     width=\"24px\">\n",
              "    <g>\n",
              "        <path d=\"M19 3H5c-1.1 0-2 .9-2 2v14c0 1.1.9 2 2 2h14c1.1 0 2-.9 2-2V5c0-1.1-.9-2-2-2zM9 17H7v-7h2v7zm4 0h-2V7h2v10zm4 0h-2v-4h2v4z\"/>\n",
              "    </g>\n",
              "</svg>\n",
              "  </button>\n",
              "\n",
              "<style>\n",
              "  .colab-df-quickchart {\n",
              "      --bg-color: #E8F0FE;\n",
              "      --fill-color: #1967D2;\n",
              "      --hover-bg-color: #E2EBFA;\n",
              "      --hover-fill-color: #174EA6;\n",
              "      --disabled-fill-color: #AAA;\n",
              "      --disabled-bg-color: #DDD;\n",
              "  }\n",
              "\n",
              "  [theme=dark] .colab-df-quickchart {\n",
              "      --bg-color: #3B4455;\n",
              "      --fill-color: #D2E3FC;\n",
              "      --hover-bg-color: #434B5C;\n",
              "      --hover-fill-color: #FFFFFF;\n",
              "      --disabled-bg-color: #3B4455;\n",
              "      --disabled-fill-color: #666;\n",
              "  }\n",
              "\n",
              "  .colab-df-quickchart {\n",
              "    background-color: var(--bg-color);\n",
              "    border: none;\n",
              "    border-radius: 50%;\n",
              "    cursor: pointer;\n",
              "    display: none;\n",
              "    fill: var(--fill-color);\n",
              "    height: 32px;\n",
              "    padding: 0;\n",
              "    width: 32px;\n",
              "  }\n",
              "\n",
              "  .colab-df-quickchart:hover {\n",
              "    background-color: var(--hover-bg-color);\n",
              "    box-shadow: 0 1px 2px rgba(60, 64, 67, 0.3), 0 1px 3px 1px rgba(60, 64, 67, 0.15);\n",
              "    fill: var(--button-hover-fill-color);\n",
              "  }\n",
              "\n",
              "  .colab-df-quickchart-complete:disabled,\n",
              "  .colab-df-quickchart-complete:disabled:hover {\n",
              "    background-color: var(--disabled-bg-color);\n",
              "    fill: var(--disabled-fill-color);\n",
              "    box-shadow: none;\n",
              "  }\n",
              "\n",
              "  .colab-df-spinner {\n",
              "    border: 2px solid var(--fill-color);\n",
              "    border-color: transparent;\n",
              "    border-bottom-color: var(--fill-color);\n",
              "    animation:\n",
              "      spin 1s steps(1) infinite;\n",
              "  }\n",
              "\n",
              "  @keyframes spin {\n",
              "    0% {\n",
              "      border-color: transparent;\n",
              "      border-bottom-color: var(--fill-color);\n",
              "      border-left-color: var(--fill-color);\n",
              "    }\n",
              "    20% {\n",
              "      border-color: transparent;\n",
              "      border-left-color: var(--fill-color);\n",
              "      border-top-color: var(--fill-color);\n",
              "    }\n",
              "    30% {\n",
              "      border-color: transparent;\n",
              "      border-left-color: var(--fill-color);\n",
              "      border-top-color: var(--fill-color);\n",
              "      border-right-color: var(--fill-color);\n",
              "    }\n",
              "    40% {\n",
              "      border-color: transparent;\n",
              "      border-right-color: var(--fill-color);\n",
              "      border-top-color: var(--fill-color);\n",
              "    }\n",
              "    60% {\n",
              "      border-color: transparent;\n",
              "      border-right-color: var(--fill-color);\n",
              "    }\n",
              "    80% {\n",
              "      border-color: transparent;\n",
              "      border-right-color: var(--fill-color);\n",
              "      border-bottom-color: var(--fill-color);\n",
              "    }\n",
              "    90% {\n",
              "      border-color: transparent;\n",
              "      border-bottom-color: var(--fill-color);\n",
              "    }\n",
              "  }\n",
              "</style>\n",
              "\n",
              "  <script>\n",
              "    async function quickchart(key) {\n",
              "      const quickchartButtonEl =\n",
              "        document.querySelector('#' + key + ' button');\n",
              "      quickchartButtonEl.disabled = true;  // To prevent multiple clicks.\n",
              "      quickchartButtonEl.classList.add('colab-df-spinner');\n",
              "      try {\n",
              "        const charts = await google.colab.kernel.invokeFunction(\n",
              "            'suggestCharts', [key], {});\n",
              "      } catch (error) {\n",
              "        console.error('Error during call to suggestCharts:', error);\n",
              "      }\n",
              "      quickchartButtonEl.classList.remove('colab-df-spinner');\n",
              "      quickchartButtonEl.classList.add('colab-df-quickchart-complete');\n",
              "    }\n",
              "    (() => {\n",
              "      let quickchartButtonEl =\n",
              "        document.querySelector('#df-bddf5b9c-95b7-47e9-8575-ab61ed738180 button');\n",
              "      quickchartButtonEl.style.display =\n",
              "        google.colab.kernel.accessAllowed ? 'block' : 'none';\n",
              "    })();\n",
              "  </script>\n",
              "</div>\n",
              "    </div>\n",
              "  </div>\n"
            ]
          },
          "metadata": {},
          "execution_count": 44
        }
      ],
      "source": [
        "pd.DataFrame({'Actual':y_test, 'Predicted':rf_y_pred})"
      ]
    },
    {
      "cell_type": "markdown",
      "id": "cfaa2198",
      "metadata": {
        "papermill": {
          "duration": 0.021689,
          "end_time": "2023-09-09T17:19:12.621596",
          "exception": false,
          "start_time": "2023-09-09T17:19:12.599907",
          "status": "completed"
        },
        "tags": [],
        "id": "cfaa2198"
      },
      "source": [
        "> **Evaluate Performance of the Model :**"
      ]
    },
    {
      "cell_type": "code",
      "execution_count": null,
      "id": "c4dfe686",
      "metadata": {
        "execution": {
          "iopub.execute_input": "2023-09-09T17:19:12.667665Z",
          "iopub.status.busy": "2023-09-09T17:19:12.666735Z",
          "iopub.status.idle": "2023-09-09T17:19:12.675532Z",
          "shell.execute_reply": "2023-09-09T17:19:12.674422Z"
        },
        "papermill": {
          "duration": 0.034669,
          "end_time": "2023-09-09T17:19:12.678118",
          "exception": false,
          "start_time": "2023-09-09T17:19:12.643449",
          "status": "completed"
        },
        "tags": [],
        "id": "c4dfe686",
        "outputId": "a57c514a-eaa0-4c22-95d8-ec85904879a6",
        "colab": {
          "base_uri": "https://localhost:8080/"
        }
      },
      "outputs": [
        {
          "output_type": "execute_result",
          "data": {
            "text/plain": [
              "0.6923076923076923"
            ]
          },
          "metadata": {},
          "execution_count": 45
        }
      ],
      "source": [
        "rf_clf_score = accuracy_score(y_test, rf_y_pred)\n",
        "rf_clf_score"
      ]
    },
    {
      "cell_type": "code",
      "execution_count": null,
      "id": "d037c576",
      "metadata": {
        "execution": {
          "iopub.execute_input": "2023-09-09T17:19:12.723295Z",
          "iopub.status.busy": "2023-09-09T17:19:12.722953Z",
          "iopub.status.idle": "2023-09-09T17:19:12.732546Z",
          "shell.execute_reply": "2023-09-09T17:19:12.731493Z"
        },
        "papermill": {
          "duration": 0.034652,
          "end_time": "2023-09-09T17:19:12.734365",
          "exception": false,
          "start_time": "2023-09-09T17:19:12.699713",
          "status": "completed"
        },
        "tags": [],
        "id": "d037c576",
        "outputId": "0aad260b-8e03-4f95-ae46-6e5413900ce8",
        "colab": {
          "base_uri": "https://localhost:8080/"
        }
      },
      "outputs": [
        {
          "output_type": "execute_result",
          "data": {
            "text/plain": [
              "array([[4, 3],\n",
              "       [1, 5]])"
            ]
          },
          "metadata": {},
          "execution_count": 46
        }
      ],
      "source": [
        "rf_clf_mat = confusion_matrix(y_test, rf_y_pred)\n",
        "rf_clf_mat"
      ]
    },
    {
      "cell_type": "code",
      "execution_count": null,
      "id": "1f558050",
      "metadata": {
        "execution": {
          "iopub.execute_input": "2023-09-09T17:19:12.779359Z",
          "iopub.status.busy": "2023-09-09T17:19:12.779055Z",
          "iopub.status.idle": "2023-09-09T17:19:12.794554Z",
          "shell.execute_reply": "2023-09-09T17:19:12.792760Z"
        },
        "papermill": {
          "duration": 0.041033,
          "end_time": "2023-09-09T17:19:12.796895",
          "exception": false,
          "start_time": "2023-09-09T17:19:12.755862",
          "status": "completed"
        },
        "tags": [],
        "id": "1f558050",
        "outputId": "22441110-8e16-4735-85fa-f3b0c82735d2",
        "colab": {
          "base_uri": "https://localhost:8080/"
        }
      },
      "outputs": [
        {
          "output_type": "stream",
          "name": "stdout",
          "text": [
            "              precision    recall  f1-score   support\n",
            "\n",
            "           0       0.80      0.57      0.67         7\n",
            "           1       0.62      0.83      0.71         6\n",
            "\n",
            "    accuracy                           0.69        13\n",
            "   macro avg       0.71      0.70      0.69        13\n",
            "weighted avg       0.72      0.69      0.69        13\n",
            "\n"
          ]
        }
      ],
      "source": [
        "rf_clf_report = classification_report(y_test, rf_y_pred)\n",
        "print(rf_clf_report)"
      ]
    },
    {
      "cell_type": "markdown",
      "id": "3654cc17",
      "metadata": {
        "papermill": {
          "duration": 0.021751,
          "end_time": "2023-09-09T17:19:12.840406",
          "exception": false,
          "start_time": "2023-09-09T17:19:12.818655",
          "status": "completed"
        },
        "tags": [],
        "id": "3654cc17"
      },
      "source": [
        "# **SVM Classifier**"
      ]
    },
    {
      "cell_type": "markdown",
      "id": "98785e4b",
      "metadata": {
        "papermill": {
          "duration": 0.021693,
          "end_time": "2023-09-09T17:19:12.884262",
          "exception": false,
          "start_time": "2023-09-09T17:19:12.862569",
          "status": "completed"
        },
        "tags": [],
        "id": "98785e4b"
      },
      "source": [
        "> **Create and Train the Model :**"
      ]
    },
    {
      "cell_type": "code",
      "execution_count": null,
      "id": "df56726e",
      "metadata": {
        "execution": {
          "iopub.execute_input": "2023-09-09T17:19:12.930228Z",
          "iopub.status.busy": "2023-09-09T17:19:12.929851Z",
          "iopub.status.idle": "2023-09-09T17:19:12.934621Z",
          "shell.execute_reply": "2023-09-09T17:19:12.933443Z"
        },
        "papermill": {
          "duration": 0.030339,
          "end_time": "2023-09-09T17:19:12.936519",
          "exception": false,
          "start_time": "2023-09-09T17:19:12.906180",
          "status": "completed"
        },
        "tags": [],
        "id": "df56726e"
      },
      "outputs": [],
      "source": [
        "from sklearn.svm import SVC"
      ]
    },
    {
      "cell_type": "code",
      "execution_count": null,
      "id": "36e73705",
      "metadata": {
        "execution": {
          "iopub.execute_input": "2023-09-09T17:19:12.984010Z",
          "iopub.status.busy": "2023-09-09T17:19:12.983071Z",
          "iopub.status.idle": "2023-09-09T17:19:12.995895Z",
          "shell.execute_reply": "2023-09-09T17:19:12.994863Z"
        },
        "papermill": {
          "duration": 0.03927,
          "end_time": "2023-09-09T17:19:12.998275",
          "exception": false,
          "start_time": "2023-09-09T17:19:12.959005",
          "status": "completed"
        },
        "tags": [],
        "id": "36e73705",
        "outputId": "b90d2966-c34c-45a2-d34e-851332c6c96f",
        "colab": {
          "base_uri": "https://localhost:8080/",
          "height": 74
        }
      },
      "outputs": [
        {
          "output_type": "execute_result",
          "data": {
            "text/plain": [
              "SVC(degree=5, kernel='poly', random_state=42)"
            ],
            "text/html": [
              "<style>#sk-container-id-3 {color: black;background-color: white;}#sk-container-id-3 pre{padding: 0;}#sk-container-id-3 div.sk-toggleable {background-color: white;}#sk-container-id-3 label.sk-toggleable__label {cursor: pointer;display: block;width: 100%;margin-bottom: 0;padding: 0.3em;box-sizing: border-box;text-align: center;}#sk-container-id-3 label.sk-toggleable__label-arrow:before {content: \"▸\";float: left;margin-right: 0.25em;color: #696969;}#sk-container-id-3 label.sk-toggleable__label-arrow:hover:before {color: black;}#sk-container-id-3 div.sk-estimator:hover label.sk-toggleable__label-arrow:before {color: black;}#sk-container-id-3 div.sk-toggleable__content {max-height: 0;max-width: 0;overflow: hidden;text-align: left;background-color: #f0f8ff;}#sk-container-id-3 div.sk-toggleable__content pre {margin: 0.2em;color: black;border-radius: 0.25em;background-color: #f0f8ff;}#sk-container-id-3 input.sk-toggleable__control:checked~div.sk-toggleable__content {max-height: 200px;max-width: 100%;overflow: auto;}#sk-container-id-3 input.sk-toggleable__control:checked~label.sk-toggleable__label-arrow:before {content: \"▾\";}#sk-container-id-3 div.sk-estimator input.sk-toggleable__control:checked~label.sk-toggleable__label {background-color: #d4ebff;}#sk-container-id-3 div.sk-label input.sk-toggleable__control:checked~label.sk-toggleable__label {background-color: #d4ebff;}#sk-container-id-3 input.sk-hidden--visually {border: 0;clip: rect(1px 1px 1px 1px);clip: rect(1px, 1px, 1px, 1px);height: 1px;margin: -1px;overflow: hidden;padding: 0;position: absolute;width: 1px;}#sk-container-id-3 div.sk-estimator {font-family: monospace;background-color: #f0f8ff;border: 1px dotted black;border-radius: 0.25em;box-sizing: border-box;margin-bottom: 0.5em;}#sk-container-id-3 div.sk-estimator:hover {background-color: #d4ebff;}#sk-container-id-3 div.sk-parallel-item::after {content: \"\";width: 100%;border-bottom: 1px solid gray;flex-grow: 1;}#sk-container-id-3 div.sk-label:hover label.sk-toggleable__label {background-color: #d4ebff;}#sk-container-id-3 div.sk-serial::before {content: \"\";position: absolute;border-left: 1px solid gray;box-sizing: border-box;top: 0;bottom: 0;left: 50%;z-index: 0;}#sk-container-id-3 div.sk-serial {display: flex;flex-direction: column;align-items: center;background-color: white;padding-right: 0.2em;padding-left: 0.2em;position: relative;}#sk-container-id-3 div.sk-item {position: relative;z-index: 1;}#sk-container-id-3 div.sk-parallel {display: flex;align-items: stretch;justify-content: center;background-color: white;position: relative;}#sk-container-id-3 div.sk-item::before, #sk-container-id-3 div.sk-parallel-item::before {content: \"\";position: absolute;border-left: 1px solid gray;box-sizing: border-box;top: 0;bottom: 0;left: 50%;z-index: -1;}#sk-container-id-3 div.sk-parallel-item {display: flex;flex-direction: column;z-index: 1;position: relative;background-color: white;}#sk-container-id-3 div.sk-parallel-item:first-child::after {align-self: flex-end;width: 50%;}#sk-container-id-3 div.sk-parallel-item:last-child::after {align-self: flex-start;width: 50%;}#sk-container-id-3 div.sk-parallel-item:only-child::after {width: 0;}#sk-container-id-3 div.sk-dashed-wrapped {border: 1px dashed gray;margin: 0 0.4em 0.5em 0.4em;box-sizing: border-box;padding-bottom: 0.4em;background-color: white;}#sk-container-id-3 div.sk-label label {font-family: monospace;font-weight: bold;display: inline-block;line-height: 1.2em;}#sk-container-id-3 div.sk-label-container {text-align: center;}#sk-container-id-3 div.sk-container {/* jupyter's `normalize.less` sets `[hidden] { display: none; }` but bootstrap.min.css set `[hidden] { display: none !important; }` so we also need the `!important` here to be able to override the default hidden behavior on the sphinx rendered scikit-learn.org. See: https://github.com/scikit-learn/scikit-learn/issues/21755 */display: inline-block !important;position: relative;}#sk-container-id-3 div.sk-text-repr-fallback {display: none;}</style><div id=\"sk-container-id-3\" class=\"sk-top-container\"><div class=\"sk-text-repr-fallback\"><pre>SVC(degree=5, kernel=&#x27;poly&#x27;, random_state=42)</pre><b>In a Jupyter environment, please rerun this cell to show the HTML representation or trust the notebook. <br />On GitHub, the HTML representation is unable to render, please try loading this page with nbviewer.org.</b></div><div class=\"sk-container\" hidden><div class=\"sk-item\"><div class=\"sk-estimator sk-toggleable\"><input class=\"sk-toggleable__control sk-hidden--visually\" id=\"sk-estimator-id-3\" type=\"checkbox\" checked><label for=\"sk-estimator-id-3\" class=\"sk-toggleable__label sk-toggleable__label-arrow\">SVC</label><div class=\"sk-toggleable__content\"><pre>SVC(degree=5, kernel=&#x27;poly&#x27;, random_state=42)</pre></div></div></div></div></div>"
            ]
          },
          "metadata": {},
          "execution_count": 49
        }
      ],
      "source": [
        "svm_clf = SVC(kernel='poly', degree=5, random_state=42)\n",
        "svm_clf.fit(x_train, y_train)"
      ]
    },
    {
      "cell_type": "markdown",
      "id": "62382e43",
      "metadata": {
        "papermill": {
          "duration": 0.022777,
          "end_time": "2023-09-09T17:19:13.044581",
          "exception": false,
          "start_time": "2023-09-09T17:19:13.021804",
          "status": "completed"
        },
        "tags": [],
        "id": "62382e43"
      },
      "source": [
        "> **Predict Test Set Results :**"
      ]
    },
    {
      "cell_type": "code",
      "execution_count": null,
      "id": "3144529d",
      "metadata": {
        "execution": {
          "iopub.execute_input": "2023-09-09T17:19:13.093291Z",
          "iopub.status.busy": "2023-09-09T17:19:13.092947Z",
          "iopub.status.idle": "2023-09-09T17:19:13.100172Z",
          "shell.execute_reply": "2023-09-09T17:19:13.098828Z"
        },
        "papermill": {
          "duration": 0.033067,
          "end_time": "2023-09-09T17:19:13.102139",
          "exception": false,
          "start_time": "2023-09-09T17:19:13.069072",
          "status": "completed"
        },
        "tags": [],
        "id": "3144529d"
      },
      "outputs": [],
      "source": [
        "svm_clf_y_pred = svm_clf.predict(x_test)"
      ]
    },
    {
      "cell_type": "code",
      "execution_count": null,
      "id": "07a3e77b",
      "metadata": {
        "execution": {
          "iopub.execute_input": "2023-09-09T17:19:13.149417Z",
          "iopub.status.busy": "2023-09-09T17:19:13.149066Z",
          "iopub.status.idle": "2023-09-09T17:19:13.159573Z",
          "shell.execute_reply": "2023-09-09T17:19:13.158232Z"
        },
        "papermill": {
          "duration": 0.03698,
          "end_time": "2023-09-09T17:19:13.161552",
          "exception": false,
          "start_time": "2023-09-09T17:19:13.124572",
          "status": "completed"
        },
        "tags": [],
        "id": "07a3e77b",
        "outputId": "612f1ea8-051c-4ccc-985a-f30e403448f7",
        "colab": {
          "base_uri": "https://localhost:8080/",
          "height": 457
        }
      },
      "outputs": [
        {
          "output_type": "execute_result",
          "data": {
            "text/plain": [
              "    Actual  Predicted\n",
              "52       1          1\n",
              "58       1          0\n",
              "0        0          0\n",
              "59       1          1\n",
              "5        0          1\n",
              "50       1          1\n",
              "16       0          1\n",
              "12       0          0\n",
              "27       0          1\n",
              "63       1          1\n",
              "32       0          0\n",
              "9        0          1\n",
              "49       1          1"
            ],
            "text/html": [
              "\n",
              "  <div id=\"df-c9033a63-6817-45c5-afe1-6e4bd27b0f9a\" class=\"colab-df-container\">\n",
              "    <div>\n",
              "<style scoped>\n",
              "    .dataframe tbody tr th:only-of-type {\n",
              "        vertical-align: middle;\n",
              "    }\n",
              "\n",
              "    .dataframe tbody tr th {\n",
              "        vertical-align: top;\n",
              "    }\n",
              "\n",
              "    .dataframe thead th {\n",
              "        text-align: right;\n",
              "    }\n",
              "</style>\n",
              "<table border=\"1\" class=\"dataframe\">\n",
              "  <thead>\n",
              "    <tr style=\"text-align: right;\">\n",
              "      <th></th>\n",
              "      <th>Actual</th>\n",
              "      <th>Predicted</th>\n",
              "    </tr>\n",
              "  </thead>\n",
              "  <tbody>\n",
              "    <tr>\n",
              "      <th>52</th>\n",
              "      <td>1</td>\n",
              "      <td>1</td>\n",
              "    </tr>\n",
              "    <tr>\n",
              "      <th>58</th>\n",
              "      <td>1</td>\n",
              "      <td>0</td>\n",
              "    </tr>\n",
              "    <tr>\n",
              "      <th>0</th>\n",
              "      <td>0</td>\n",
              "      <td>0</td>\n",
              "    </tr>\n",
              "    <tr>\n",
              "      <th>59</th>\n",
              "      <td>1</td>\n",
              "      <td>1</td>\n",
              "    </tr>\n",
              "    <tr>\n",
              "      <th>5</th>\n",
              "      <td>0</td>\n",
              "      <td>1</td>\n",
              "    </tr>\n",
              "    <tr>\n",
              "      <th>50</th>\n",
              "      <td>1</td>\n",
              "      <td>1</td>\n",
              "    </tr>\n",
              "    <tr>\n",
              "      <th>16</th>\n",
              "      <td>0</td>\n",
              "      <td>1</td>\n",
              "    </tr>\n",
              "    <tr>\n",
              "      <th>12</th>\n",
              "      <td>0</td>\n",
              "      <td>0</td>\n",
              "    </tr>\n",
              "    <tr>\n",
              "      <th>27</th>\n",
              "      <td>0</td>\n",
              "      <td>1</td>\n",
              "    </tr>\n",
              "    <tr>\n",
              "      <th>63</th>\n",
              "      <td>1</td>\n",
              "      <td>1</td>\n",
              "    </tr>\n",
              "    <tr>\n",
              "      <th>32</th>\n",
              "      <td>0</td>\n",
              "      <td>0</td>\n",
              "    </tr>\n",
              "    <tr>\n",
              "      <th>9</th>\n",
              "      <td>0</td>\n",
              "      <td>1</td>\n",
              "    </tr>\n",
              "    <tr>\n",
              "      <th>49</th>\n",
              "      <td>1</td>\n",
              "      <td>1</td>\n",
              "    </tr>\n",
              "  </tbody>\n",
              "</table>\n",
              "</div>\n",
              "    <div class=\"colab-df-buttons\">\n",
              "\n",
              "  <div class=\"colab-df-container\">\n",
              "    <button class=\"colab-df-convert\" onclick=\"convertToInteractive('df-c9033a63-6817-45c5-afe1-6e4bd27b0f9a')\"\n",
              "            title=\"Convert this dataframe to an interactive table.\"\n",
              "            style=\"display:none;\">\n",
              "\n",
              "  <svg xmlns=\"http://www.w3.org/2000/svg\" height=\"24px\" viewBox=\"0 -960 960 960\">\n",
              "    <path d=\"M120-120v-720h720v720H120Zm60-500h600v-160H180v160Zm220 220h160v-160H400v160Zm0 220h160v-160H400v160ZM180-400h160v-160H180v160Zm440 0h160v-160H620v160ZM180-180h160v-160H180v160Zm440 0h160v-160H620v160Z\"/>\n",
              "  </svg>\n",
              "    </button>\n",
              "\n",
              "  <style>\n",
              "    .colab-df-container {\n",
              "      display:flex;\n",
              "      gap: 12px;\n",
              "    }\n",
              "\n",
              "    .colab-df-convert {\n",
              "      background-color: #E8F0FE;\n",
              "      border: none;\n",
              "      border-radius: 50%;\n",
              "      cursor: pointer;\n",
              "      display: none;\n",
              "      fill: #1967D2;\n",
              "      height: 32px;\n",
              "      padding: 0 0 0 0;\n",
              "      width: 32px;\n",
              "    }\n",
              "\n",
              "    .colab-df-convert:hover {\n",
              "      background-color: #E2EBFA;\n",
              "      box-shadow: 0px 1px 2px rgba(60, 64, 67, 0.3), 0px 1px 3px 1px rgba(60, 64, 67, 0.15);\n",
              "      fill: #174EA6;\n",
              "    }\n",
              "\n",
              "    .colab-df-buttons div {\n",
              "      margin-bottom: 4px;\n",
              "    }\n",
              "\n",
              "    [theme=dark] .colab-df-convert {\n",
              "      background-color: #3B4455;\n",
              "      fill: #D2E3FC;\n",
              "    }\n",
              "\n",
              "    [theme=dark] .colab-df-convert:hover {\n",
              "      background-color: #434B5C;\n",
              "      box-shadow: 0px 1px 3px 1px rgba(0, 0, 0, 0.15);\n",
              "      filter: drop-shadow(0px 1px 2px rgba(0, 0, 0, 0.3));\n",
              "      fill: #FFFFFF;\n",
              "    }\n",
              "  </style>\n",
              "\n",
              "    <script>\n",
              "      const buttonEl =\n",
              "        document.querySelector('#df-c9033a63-6817-45c5-afe1-6e4bd27b0f9a button.colab-df-convert');\n",
              "      buttonEl.style.display =\n",
              "        google.colab.kernel.accessAllowed ? 'block' : 'none';\n",
              "\n",
              "      async function convertToInteractive(key) {\n",
              "        const element = document.querySelector('#df-c9033a63-6817-45c5-afe1-6e4bd27b0f9a');\n",
              "        const dataTable =\n",
              "          await google.colab.kernel.invokeFunction('convertToInteractive',\n",
              "                                                    [key], {});\n",
              "        if (!dataTable) return;\n",
              "\n",
              "        const docLinkHtml = 'Like what you see? Visit the ' +\n",
              "          '<a target=\"_blank\" href=https://colab.research.google.com/notebooks/data_table.ipynb>data table notebook</a>'\n",
              "          + ' to learn more about interactive tables.';\n",
              "        element.innerHTML = '';\n",
              "        dataTable['output_type'] = 'display_data';\n",
              "        await google.colab.output.renderOutput(dataTable, element);\n",
              "        const docLink = document.createElement('div');\n",
              "        docLink.innerHTML = docLinkHtml;\n",
              "        element.appendChild(docLink);\n",
              "      }\n",
              "    </script>\n",
              "  </div>\n",
              "\n",
              "\n",
              "<div id=\"df-22935599-4617-4cf9-85cf-c6e74c51e32f\">\n",
              "  <button class=\"colab-df-quickchart\" onclick=\"quickchart('df-22935599-4617-4cf9-85cf-c6e74c51e32f')\"\n",
              "            title=\"Suggest charts\"\n",
              "            style=\"display:none;\">\n",
              "\n",
              "<svg xmlns=\"http://www.w3.org/2000/svg\" height=\"24px\"viewBox=\"0 0 24 24\"\n",
              "     width=\"24px\">\n",
              "    <g>\n",
              "        <path d=\"M19 3H5c-1.1 0-2 .9-2 2v14c0 1.1.9 2 2 2h14c1.1 0 2-.9 2-2V5c0-1.1-.9-2-2-2zM9 17H7v-7h2v7zm4 0h-2V7h2v10zm4 0h-2v-4h2v4z\"/>\n",
              "    </g>\n",
              "</svg>\n",
              "  </button>\n",
              "\n",
              "<style>\n",
              "  .colab-df-quickchart {\n",
              "      --bg-color: #E8F0FE;\n",
              "      --fill-color: #1967D2;\n",
              "      --hover-bg-color: #E2EBFA;\n",
              "      --hover-fill-color: #174EA6;\n",
              "      --disabled-fill-color: #AAA;\n",
              "      --disabled-bg-color: #DDD;\n",
              "  }\n",
              "\n",
              "  [theme=dark] .colab-df-quickchart {\n",
              "      --bg-color: #3B4455;\n",
              "      --fill-color: #D2E3FC;\n",
              "      --hover-bg-color: #434B5C;\n",
              "      --hover-fill-color: #FFFFFF;\n",
              "      --disabled-bg-color: #3B4455;\n",
              "      --disabled-fill-color: #666;\n",
              "  }\n",
              "\n",
              "  .colab-df-quickchart {\n",
              "    background-color: var(--bg-color);\n",
              "    border: none;\n",
              "    border-radius: 50%;\n",
              "    cursor: pointer;\n",
              "    display: none;\n",
              "    fill: var(--fill-color);\n",
              "    height: 32px;\n",
              "    padding: 0;\n",
              "    width: 32px;\n",
              "  }\n",
              "\n",
              "  .colab-df-quickchart:hover {\n",
              "    background-color: var(--hover-bg-color);\n",
              "    box-shadow: 0 1px 2px rgba(60, 64, 67, 0.3), 0 1px 3px 1px rgba(60, 64, 67, 0.15);\n",
              "    fill: var(--button-hover-fill-color);\n",
              "  }\n",
              "\n",
              "  .colab-df-quickchart-complete:disabled,\n",
              "  .colab-df-quickchart-complete:disabled:hover {\n",
              "    background-color: var(--disabled-bg-color);\n",
              "    fill: var(--disabled-fill-color);\n",
              "    box-shadow: none;\n",
              "  }\n",
              "\n",
              "  .colab-df-spinner {\n",
              "    border: 2px solid var(--fill-color);\n",
              "    border-color: transparent;\n",
              "    border-bottom-color: var(--fill-color);\n",
              "    animation:\n",
              "      spin 1s steps(1) infinite;\n",
              "  }\n",
              "\n",
              "  @keyframes spin {\n",
              "    0% {\n",
              "      border-color: transparent;\n",
              "      border-bottom-color: var(--fill-color);\n",
              "      border-left-color: var(--fill-color);\n",
              "    }\n",
              "    20% {\n",
              "      border-color: transparent;\n",
              "      border-left-color: var(--fill-color);\n",
              "      border-top-color: var(--fill-color);\n",
              "    }\n",
              "    30% {\n",
              "      border-color: transparent;\n",
              "      border-left-color: var(--fill-color);\n",
              "      border-top-color: var(--fill-color);\n",
              "      border-right-color: var(--fill-color);\n",
              "    }\n",
              "    40% {\n",
              "      border-color: transparent;\n",
              "      border-right-color: var(--fill-color);\n",
              "      border-top-color: var(--fill-color);\n",
              "    }\n",
              "    60% {\n",
              "      border-color: transparent;\n",
              "      border-right-color: var(--fill-color);\n",
              "    }\n",
              "    80% {\n",
              "      border-color: transparent;\n",
              "      border-right-color: var(--fill-color);\n",
              "      border-bottom-color: var(--fill-color);\n",
              "    }\n",
              "    90% {\n",
              "      border-color: transparent;\n",
              "      border-bottom-color: var(--fill-color);\n",
              "    }\n",
              "  }\n",
              "</style>\n",
              "\n",
              "  <script>\n",
              "    async function quickchart(key) {\n",
              "      const quickchartButtonEl =\n",
              "        document.querySelector('#' + key + ' button');\n",
              "      quickchartButtonEl.disabled = true;  // To prevent multiple clicks.\n",
              "      quickchartButtonEl.classList.add('colab-df-spinner');\n",
              "      try {\n",
              "        const charts = await google.colab.kernel.invokeFunction(\n",
              "            'suggestCharts', [key], {});\n",
              "      } catch (error) {\n",
              "        console.error('Error during call to suggestCharts:', error);\n",
              "      }\n",
              "      quickchartButtonEl.classList.remove('colab-df-spinner');\n",
              "      quickchartButtonEl.classList.add('colab-df-quickchart-complete');\n",
              "    }\n",
              "    (() => {\n",
              "      let quickchartButtonEl =\n",
              "        document.querySelector('#df-22935599-4617-4cf9-85cf-c6e74c51e32f button');\n",
              "      quickchartButtonEl.style.display =\n",
              "        google.colab.kernel.accessAllowed ? 'block' : 'none';\n",
              "    })();\n",
              "  </script>\n",
              "</div>\n",
              "    </div>\n",
              "  </div>\n"
            ]
          },
          "metadata": {},
          "execution_count": 51
        }
      ],
      "source": [
        "pd.DataFrame({'Actual':y_test, 'Predicted':svm_clf_y_pred})"
      ]
    },
    {
      "cell_type": "markdown",
      "id": "f4ddadec",
      "metadata": {
        "papermill": {
          "duration": 0.022086,
          "end_time": "2023-09-09T17:19:13.206311",
          "exception": false,
          "start_time": "2023-09-09T17:19:13.184225",
          "status": "completed"
        },
        "tags": [],
        "id": "f4ddadec"
      },
      "source": [
        "> **Evaluate Performance of the Model :**"
      ]
    },
    {
      "cell_type": "code",
      "execution_count": null,
      "id": "b63d4a3f",
      "metadata": {
        "execution": {
          "iopub.execute_input": "2023-09-09T17:19:13.252827Z",
          "iopub.status.busy": "2023-09-09T17:19:13.252514Z",
          "iopub.status.idle": "2023-09-09T17:19:13.259551Z",
          "shell.execute_reply": "2023-09-09T17:19:13.258282Z"
        },
        "papermill": {
          "duration": 0.033137,
          "end_time": "2023-09-09T17:19:13.262034",
          "exception": false,
          "start_time": "2023-09-09T17:19:13.228897",
          "status": "completed"
        },
        "tags": [],
        "id": "b63d4a3f",
        "outputId": "e23d3e8e-9114-4471-8e22-db02beffe360",
        "colab": {
          "base_uri": "https://localhost:8080/"
        }
      },
      "outputs": [
        {
          "output_type": "execute_result",
          "data": {
            "text/plain": [
              "0.6153846153846154"
            ]
          },
          "metadata": {},
          "execution_count": 52
        }
      ],
      "source": [
        "svm_clf_score = accuracy_score(y_test, svm_clf_y_pred)\n",
        "svm_clf_score"
      ]
    },
    {
      "cell_type": "code",
      "execution_count": null,
      "id": "6aa3bead",
      "metadata": {
        "execution": {
          "iopub.execute_input": "2023-09-09T17:19:13.309336Z",
          "iopub.status.busy": "2023-09-09T17:19:13.309000Z",
          "iopub.status.idle": "2023-09-09T17:19:13.315868Z",
          "shell.execute_reply": "2023-09-09T17:19:13.315192Z"
        },
        "papermill": {
          "duration": 0.032692,
          "end_time": "2023-09-09T17:19:13.317421",
          "exception": false,
          "start_time": "2023-09-09T17:19:13.284729",
          "status": "completed"
        },
        "tags": [],
        "id": "6aa3bead",
        "outputId": "80e686e7-913e-47ea-d6a9-adb16e3fcc58",
        "colab": {
          "base_uri": "https://localhost:8080/"
        }
      },
      "outputs": [
        {
          "output_type": "execute_result",
          "data": {
            "text/plain": [
              "array([[3, 4],\n",
              "       [1, 5]])"
            ]
          },
          "metadata": {},
          "execution_count": 53
        }
      ],
      "source": [
        "svm_clf_mat = confusion_matrix(y_test, svm_clf_y_pred)\n",
        "svm_clf_mat"
      ]
    },
    {
      "cell_type": "code",
      "execution_count": null,
      "id": "881e1578",
      "metadata": {
        "execution": {
          "iopub.execute_input": "2023-09-09T17:19:13.364084Z",
          "iopub.status.busy": "2023-09-09T17:19:13.363719Z",
          "iopub.status.idle": "2023-09-09T17:19:13.377756Z",
          "shell.execute_reply": "2023-09-09T17:19:13.376751Z"
        },
        "papermill": {
          "duration": 0.040265,
          "end_time": "2023-09-09T17:19:13.379934",
          "exception": false,
          "start_time": "2023-09-09T17:19:13.339669",
          "status": "completed"
        },
        "tags": [],
        "id": "881e1578",
        "outputId": "08a006e6-cd69-4359-f1b1-c9941ba1613d",
        "colab": {
          "base_uri": "https://localhost:8080/"
        }
      },
      "outputs": [
        {
          "output_type": "stream",
          "name": "stdout",
          "text": [
            "              precision    recall  f1-score   support\n",
            "\n",
            "           0       0.75      0.43      0.55         7\n",
            "           1       0.56      0.83      0.67         6\n",
            "\n",
            "    accuracy                           0.62        13\n",
            "   macro avg       0.65      0.63      0.61        13\n",
            "weighted avg       0.66      0.62      0.60        13\n",
            "\n"
          ]
        }
      ],
      "source": [
        "svm_clf_report = classification_report(y_test, svm_clf_y_pred)\n",
        "print(svm_clf_report)"
      ]
    },
    {
      "cell_type": "markdown",
      "id": "0ca43451",
      "metadata": {
        "papermill": {
          "duration": 0.021353,
          "end_time": "2023-09-09T17:19:13.423217",
          "exception": false,
          "start_time": "2023-09-09T17:19:13.401864",
          "status": "completed"
        },
        "tags": [],
        "id": "0ca43451"
      },
      "source": [
        "# **KNN Classification Model**"
      ]
    },
    {
      "cell_type": "markdown",
      "id": "3b8f86ce",
      "metadata": {
        "papermill": {
          "duration": 0.022288,
          "end_time": "2023-09-09T17:19:13.468239",
          "exception": false,
          "start_time": "2023-09-09T17:19:13.445951",
          "status": "completed"
        },
        "tags": [],
        "id": "3b8f86ce"
      },
      "source": [
        "> **Create and Train the Model :**"
      ]
    },
    {
      "cell_type": "code",
      "execution_count": null,
      "id": "9057532c",
      "metadata": {
        "execution": {
          "iopub.execute_input": "2023-09-09T17:19:13.513632Z",
          "iopub.status.busy": "2023-09-09T17:19:13.512631Z",
          "iopub.status.idle": "2023-09-09T17:19:13.517943Z",
          "shell.execute_reply": "2023-09-09T17:19:13.516864Z"
        },
        "papermill": {
          "duration": 0.030531,
          "end_time": "2023-09-09T17:19:13.520112",
          "exception": false,
          "start_time": "2023-09-09T17:19:13.489581",
          "status": "completed"
        },
        "tags": [],
        "id": "9057532c"
      },
      "outputs": [],
      "source": [
        "from sklearn.neighbors import KNeighborsClassifier"
      ]
    },
    {
      "cell_type": "code",
      "execution_count": null,
      "id": "778e853b",
      "metadata": {
        "execution": {
          "iopub.execute_input": "2023-09-09T17:19:13.569921Z",
          "iopub.status.busy": "2023-09-09T17:19:13.569419Z",
          "iopub.status.idle": "2023-09-09T17:19:13.578913Z",
          "shell.execute_reply": "2023-09-09T17:19:13.578127Z"
        },
        "papermill": {
          "duration": 0.037912,
          "end_time": "2023-09-09T17:19:13.581153",
          "exception": false,
          "start_time": "2023-09-09T17:19:13.543241",
          "status": "completed"
        },
        "tags": [],
        "id": "778e853b",
        "outputId": "aa993efa-aa58-4f3a-afa3-3a7532df6585",
        "colab": {
          "base_uri": "https://localhost:8080/",
          "height": 74
        }
      },
      "outputs": [
        {
          "output_type": "execute_result",
          "data": {
            "text/plain": [
              "KNeighborsClassifier()"
            ],
            "text/html": [
              "<style>#sk-container-id-4 {color: black;background-color: white;}#sk-container-id-4 pre{padding: 0;}#sk-container-id-4 div.sk-toggleable {background-color: white;}#sk-container-id-4 label.sk-toggleable__label {cursor: pointer;display: block;width: 100%;margin-bottom: 0;padding: 0.3em;box-sizing: border-box;text-align: center;}#sk-container-id-4 label.sk-toggleable__label-arrow:before {content: \"▸\";float: left;margin-right: 0.25em;color: #696969;}#sk-container-id-4 label.sk-toggleable__label-arrow:hover:before {color: black;}#sk-container-id-4 div.sk-estimator:hover label.sk-toggleable__label-arrow:before {color: black;}#sk-container-id-4 div.sk-toggleable__content {max-height: 0;max-width: 0;overflow: hidden;text-align: left;background-color: #f0f8ff;}#sk-container-id-4 div.sk-toggleable__content pre {margin: 0.2em;color: black;border-radius: 0.25em;background-color: #f0f8ff;}#sk-container-id-4 input.sk-toggleable__control:checked~div.sk-toggleable__content {max-height: 200px;max-width: 100%;overflow: auto;}#sk-container-id-4 input.sk-toggleable__control:checked~label.sk-toggleable__label-arrow:before {content: \"▾\";}#sk-container-id-4 div.sk-estimator input.sk-toggleable__control:checked~label.sk-toggleable__label {background-color: #d4ebff;}#sk-container-id-4 div.sk-label input.sk-toggleable__control:checked~label.sk-toggleable__label {background-color: #d4ebff;}#sk-container-id-4 input.sk-hidden--visually {border: 0;clip: rect(1px 1px 1px 1px);clip: rect(1px, 1px, 1px, 1px);height: 1px;margin: -1px;overflow: hidden;padding: 0;position: absolute;width: 1px;}#sk-container-id-4 div.sk-estimator {font-family: monospace;background-color: #f0f8ff;border: 1px dotted black;border-radius: 0.25em;box-sizing: border-box;margin-bottom: 0.5em;}#sk-container-id-4 div.sk-estimator:hover {background-color: #d4ebff;}#sk-container-id-4 div.sk-parallel-item::after {content: \"\";width: 100%;border-bottom: 1px solid gray;flex-grow: 1;}#sk-container-id-4 div.sk-label:hover label.sk-toggleable__label {background-color: #d4ebff;}#sk-container-id-4 div.sk-serial::before {content: \"\";position: absolute;border-left: 1px solid gray;box-sizing: border-box;top: 0;bottom: 0;left: 50%;z-index: 0;}#sk-container-id-4 div.sk-serial {display: flex;flex-direction: column;align-items: center;background-color: white;padding-right: 0.2em;padding-left: 0.2em;position: relative;}#sk-container-id-4 div.sk-item {position: relative;z-index: 1;}#sk-container-id-4 div.sk-parallel {display: flex;align-items: stretch;justify-content: center;background-color: white;position: relative;}#sk-container-id-4 div.sk-item::before, #sk-container-id-4 div.sk-parallel-item::before {content: \"\";position: absolute;border-left: 1px solid gray;box-sizing: border-box;top: 0;bottom: 0;left: 50%;z-index: -1;}#sk-container-id-4 div.sk-parallel-item {display: flex;flex-direction: column;z-index: 1;position: relative;background-color: white;}#sk-container-id-4 div.sk-parallel-item:first-child::after {align-self: flex-end;width: 50%;}#sk-container-id-4 div.sk-parallel-item:last-child::after {align-self: flex-start;width: 50%;}#sk-container-id-4 div.sk-parallel-item:only-child::after {width: 0;}#sk-container-id-4 div.sk-dashed-wrapped {border: 1px dashed gray;margin: 0 0.4em 0.5em 0.4em;box-sizing: border-box;padding-bottom: 0.4em;background-color: white;}#sk-container-id-4 div.sk-label label {font-family: monospace;font-weight: bold;display: inline-block;line-height: 1.2em;}#sk-container-id-4 div.sk-label-container {text-align: center;}#sk-container-id-4 div.sk-container {/* jupyter's `normalize.less` sets `[hidden] { display: none; }` but bootstrap.min.css set `[hidden] { display: none !important; }` so we also need the `!important` here to be able to override the default hidden behavior on the sphinx rendered scikit-learn.org. See: https://github.com/scikit-learn/scikit-learn/issues/21755 */display: inline-block !important;position: relative;}#sk-container-id-4 div.sk-text-repr-fallback {display: none;}</style><div id=\"sk-container-id-4\" class=\"sk-top-container\"><div class=\"sk-text-repr-fallback\"><pre>KNeighborsClassifier()</pre><b>In a Jupyter environment, please rerun this cell to show the HTML representation or trust the notebook. <br />On GitHub, the HTML representation is unable to render, please try loading this page with nbviewer.org.</b></div><div class=\"sk-container\" hidden><div class=\"sk-item\"><div class=\"sk-estimator sk-toggleable\"><input class=\"sk-toggleable__control sk-hidden--visually\" id=\"sk-estimator-id-4\" type=\"checkbox\" checked><label for=\"sk-estimator-id-4\" class=\"sk-toggleable__label sk-toggleable__label-arrow\">KNeighborsClassifier</label><div class=\"sk-toggleable__content\"><pre>KNeighborsClassifier()</pre></div></div></div></div></div>"
            ]
          },
          "metadata": {},
          "execution_count": 56
        }
      ],
      "source": [
        "knn_clf = KNeighborsClassifier(n_neighbors=5, p=2, metric='minkowski')\n",
        "knn_clf.fit(x_train,y_train)"
      ]
    },
    {
      "cell_type": "markdown",
      "id": "27b59dfa",
      "metadata": {
        "papermill": {
          "duration": 0.022666,
          "end_time": "2023-09-09T17:19:13.626686",
          "exception": false,
          "start_time": "2023-09-09T17:19:13.604020",
          "status": "completed"
        },
        "tags": [],
        "id": "27b59dfa"
      },
      "source": [
        "> **Predict Test Set Results :**"
      ]
    },
    {
      "cell_type": "code",
      "execution_count": null,
      "id": "c897db36",
      "metadata": {
        "execution": {
          "iopub.execute_input": "2023-09-09T17:19:13.673374Z",
          "iopub.status.busy": "2023-09-09T17:19:13.673048Z",
          "iopub.status.idle": "2023-09-09T17:19:13.680596Z",
          "shell.execute_reply": "2023-09-09T17:19:13.679925Z"
        },
        "papermill": {
          "duration": 0.033202,
          "end_time": "2023-09-09T17:19:13.682539",
          "exception": false,
          "start_time": "2023-09-09T17:19:13.649337",
          "status": "completed"
        },
        "tags": [],
        "id": "c897db36"
      },
      "outputs": [],
      "source": [
        "knn_clf_y_pred = knn_clf.predict(x_test)"
      ]
    },
    {
      "cell_type": "code",
      "execution_count": null,
      "id": "ae758135",
      "metadata": {
        "execution": {
          "iopub.execute_input": "2023-09-09T17:19:13.729751Z",
          "iopub.status.busy": "2023-09-09T17:19:13.729412Z",
          "iopub.status.idle": "2023-09-09T17:19:13.739278Z",
          "shell.execute_reply": "2023-09-09T17:19:13.737929Z"
        },
        "papermill": {
          "duration": 0.035849,
          "end_time": "2023-09-09T17:19:13.741234",
          "exception": false,
          "start_time": "2023-09-09T17:19:13.705385",
          "status": "completed"
        },
        "tags": [],
        "id": "ae758135",
        "outputId": "0a1de3e7-492b-45ab-a3b0-18b4973e07bd",
        "colab": {
          "base_uri": "https://localhost:8080/",
          "height": 457
        }
      },
      "outputs": [
        {
          "output_type": "execute_result",
          "data": {
            "text/plain": [
              "    Actual  Predicted\n",
              "52       1          1\n",
              "58       1          0\n",
              "0        0          1\n",
              "59       1          1\n",
              "5        0          0\n",
              "50       1          0\n",
              "16       0          1\n",
              "12       0          0\n",
              "27       0          0\n",
              "63       1          1\n",
              "32       0          0\n",
              "9        0          0\n",
              "49       1          1"
            ],
            "text/html": [
              "\n",
              "  <div id=\"df-231c1cb7-3023-48e7-96f9-e8b5949a6b19\" class=\"colab-df-container\">\n",
              "    <div>\n",
              "<style scoped>\n",
              "    .dataframe tbody tr th:only-of-type {\n",
              "        vertical-align: middle;\n",
              "    }\n",
              "\n",
              "    .dataframe tbody tr th {\n",
              "        vertical-align: top;\n",
              "    }\n",
              "\n",
              "    .dataframe thead th {\n",
              "        text-align: right;\n",
              "    }\n",
              "</style>\n",
              "<table border=\"1\" class=\"dataframe\">\n",
              "  <thead>\n",
              "    <tr style=\"text-align: right;\">\n",
              "      <th></th>\n",
              "      <th>Actual</th>\n",
              "      <th>Predicted</th>\n",
              "    </tr>\n",
              "  </thead>\n",
              "  <tbody>\n",
              "    <tr>\n",
              "      <th>52</th>\n",
              "      <td>1</td>\n",
              "      <td>1</td>\n",
              "    </tr>\n",
              "    <tr>\n",
              "      <th>58</th>\n",
              "      <td>1</td>\n",
              "      <td>0</td>\n",
              "    </tr>\n",
              "    <tr>\n",
              "      <th>0</th>\n",
              "      <td>0</td>\n",
              "      <td>1</td>\n",
              "    </tr>\n",
              "    <tr>\n",
              "      <th>59</th>\n",
              "      <td>1</td>\n",
              "      <td>1</td>\n",
              "    </tr>\n",
              "    <tr>\n",
              "      <th>5</th>\n",
              "      <td>0</td>\n",
              "      <td>0</td>\n",
              "    </tr>\n",
              "    <tr>\n",
              "      <th>50</th>\n",
              "      <td>1</td>\n",
              "      <td>0</td>\n",
              "    </tr>\n",
              "    <tr>\n",
              "      <th>16</th>\n",
              "      <td>0</td>\n",
              "      <td>1</td>\n",
              "    </tr>\n",
              "    <tr>\n",
              "      <th>12</th>\n",
              "      <td>0</td>\n",
              "      <td>0</td>\n",
              "    </tr>\n",
              "    <tr>\n",
              "      <th>27</th>\n",
              "      <td>0</td>\n",
              "      <td>0</td>\n",
              "    </tr>\n",
              "    <tr>\n",
              "      <th>63</th>\n",
              "      <td>1</td>\n",
              "      <td>1</td>\n",
              "    </tr>\n",
              "    <tr>\n",
              "      <th>32</th>\n",
              "      <td>0</td>\n",
              "      <td>0</td>\n",
              "    </tr>\n",
              "    <tr>\n",
              "      <th>9</th>\n",
              "      <td>0</td>\n",
              "      <td>0</td>\n",
              "    </tr>\n",
              "    <tr>\n",
              "      <th>49</th>\n",
              "      <td>1</td>\n",
              "      <td>1</td>\n",
              "    </tr>\n",
              "  </tbody>\n",
              "</table>\n",
              "</div>\n",
              "    <div class=\"colab-df-buttons\">\n",
              "\n",
              "  <div class=\"colab-df-container\">\n",
              "    <button class=\"colab-df-convert\" onclick=\"convertToInteractive('df-231c1cb7-3023-48e7-96f9-e8b5949a6b19')\"\n",
              "            title=\"Convert this dataframe to an interactive table.\"\n",
              "            style=\"display:none;\">\n",
              "\n",
              "  <svg xmlns=\"http://www.w3.org/2000/svg\" height=\"24px\" viewBox=\"0 -960 960 960\">\n",
              "    <path d=\"M120-120v-720h720v720H120Zm60-500h600v-160H180v160Zm220 220h160v-160H400v160Zm0 220h160v-160H400v160ZM180-400h160v-160H180v160Zm440 0h160v-160H620v160ZM180-180h160v-160H180v160Zm440 0h160v-160H620v160Z\"/>\n",
              "  </svg>\n",
              "    </button>\n",
              "\n",
              "  <style>\n",
              "    .colab-df-container {\n",
              "      display:flex;\n",
              "      gap: 12px;\n",
              "    }\n",
              "\n",
              "    .colab-df-convert {\n",
              "      background-color: #E8F0FE;\n",
              "      border: none;\n",
              "      border-radius: 50%;\n",
              "      cursor: pointer;\n",
              "      display: none;\n",
              "      fill: #1967D2;\n",
              "      height: 32px;\n",
              "      padding: 0 0 0 0;\n",
              "      width: 32px;\n",
              "    }\n",
              "\n",
              "    .colab-df-convert:hover {\n",
              "      background-color: #E2EBFA;\n",
              "      box-shadow: 0px 1px 2px rgba(60, 64, 67, 0.3), 0px 1px 3px 1px rgba(60, 64, 67, 0.15);\n",
              "      fill: #174EA6;\n",
              "    }\n",
              "\n",
              "    .colab-df-buttons div {\n",
              "      margin-bottom: 4px;\n",
              "    }\n",
              "\n",
              "    [theme=dark] .colab-df-convert {\n",
              "      background-color: #3B4455;\n",
              "      fill: #D2E3FC;\n",
              "    }\n",
              "\n",
              "    [theme=dark] .colab-df-convert:hover {\n",
              "      background-color: #434B5C;\n",
              "      box-shadow: 0px 1px 3px 1px rgba(0, 0, 0, 0.15);\n",
              "      filter: drop-shadow(0px 1px 2px rgba(0, 0, 0, 0.3));\n",
              "      fill: #FFFFFF;\n",
              "    }\n",
              "  </style>\n",
              "\n",
              "    <script>\n",
              "      const buttonEl =\n",
              "        document.querySelector('#df-231c1cb7-3023-48e7-96f9-e8b5949a6b19 button.colab-df-convert');\n",
              "      buttonEl.style.display =\n",
              "        google.colab.kernel.accessAllowed ? 'block' : 'none';\n",
              "\n",
              "      async function convertToInteractive(key) {\n",
              "        const element = document.querySelector('#df-231c1cb7-3023-48e7-96f9-e8b5949a6b19');\n",
              "        const dataTable =\n",
              "          await google.colab.kernel.invokeFunction('convertToInteractive',\n",
              "                                                    [key], {});\n",
              "        if (!dataTable) return;\n",
              "\n",
              "        const docLinkHtml = 'Like what you see? Visit the ' +\n",
              "          '<a target=\"_blank\" href=https://colab.research.google.com/notebooks/data_table.ipynb>data table notebook</a>'\n",
              "          + ' to learn more about interactive tables.';\n",
              "        element.innerHTML = '';\n",
              "        dataTable['output_type'] = 'display_data';\n",
              "        await google.colab.output.renderOutput(dataTable, element);\n",
              "        const docLink = document.createElement('div');\n",
              "        docLink.innerHTML = docLinkHtml;\n",
              "        element.appendChild(docLink);\n",
              "      }\n",
              "    </script>\n",
              "  </div>\n",
              "\n",
              "\n",
              "<div id=\"df-b8069a92-51c0-4dc9-882d-985e0fd1bc34\">\n",
              "  <button class=\"colab-df-quickchart\" onclick=\"quickchart('df-b8069a92-51c0-4dc9-882d-985e0fd1bc34')\"\n",
              "            title=\"Suggest charts\"\n",
              "            style=\"display:none;\">\n",
              "\n",
              "<svg xmlns=\"http://www.w3.org/2000/svg\" height=\"24px\"viewBox=\"0 0 24 24\"\n",
              "     width=\"24px\">\n",
              "    <g>\n",
              "        <path d=\"M19 3H5c-1.1 0-2 .9-2 2v14c0 1.1.9 2 2 2h14c1.1 0 2-.9 2-2V5c0-1.1-.9-2-2-2zM9 17H7v-7h2v7zm4 0h-2V7h2v10zm4 0h-2v-4h2v4z\"/>\n",
              "    </g>\n",
              "</svg>\n",
              "  </button>\n",
              "\n",
              "<style>\n",
              "  .colab-df-quickchart {\n",
              "      --bg-color: #E8F0FE;\n",
              "      --fill-color: #1967D2;\n",
              "      --hover-bg-color: #E2EBFA;\n",
              "      --hover-fill-color: #174EA6;\n",
              "      --disabled-fill-color: #AAA;\n",
              "      --disabled-bg-color: #DDD;\n",
              "  }\n",
              "\n",
              "  [theme=dark] .colab-df-quickchart {\n",
              "      --bg-color: #3B4455;\n",
              "      --fill-color: #D2E3FC;\n",
              "      --hover-bg-color: #434B5C;\n",
              "      --hover-fill-color: #FFFFFF;\n",
              "      --disabled-bg-color: #3B4455;\n",
              "      --disabled-fill-color: #666;\n",
              "  }\n",
              "\n",
              "  .colab-df-quickchart {\n",
              "    background-color: var(--bg-color);\n",
              "    border: none;\n",
              "    border-radius: 50%;\n",
              "    cursor: pointer;\n",
              "    display: none;\n",
              "    fill: var(--fill-color);\n",
              "    height: 32px;\n",
              "    padding: 0;\n",
              "    width: 32px;\n",
              "  }\n",
              "\n",
              "  .colab-df-quickchart:hover {\n",
              "    background-color: var(--hover-bg-color);\n",
              "    box-shadow: 0 1px 2px rgba(60, 64, 67, 0.3), 0 1px 3px 1px rgba(60, 64, 67, 0.15);\n",
              "    fill: var(--button-hover-fill-color);\n",
              "  }\n",
              "\n",
              "  .colab-df-quickchart-complete:disabled,\n",
              "  .colab-df-quickchart-complete:disabled:hover {\n",
              "    background-color: var(--disabled-bg-color);\n",
              "    fill: var(--disabled-fill-color);\n",
              "    box-shadow: none;\n",
              "  }\n",
              "\n",
              "  .colab-df-spinner {\n",
              "    border: 2px solid var(--fill-color);\n",
              "    border-color: transparent;\n",
              "    border-bottom-color: var(--fill-color);\n",
              "    animation:\n",
              "      spin 1s steps(1) infinite;\n",
              "  }\n",
              "\n",
              "  @keyframes spin {\n",
              "    0% {\n",
              "      border-color: transparent;\n",
              "      border-bottom-color: var(--fill-color);\n",
              "      border-left-color: var(--fill-color);\n",
              "    }\n",
              "    20% {\n",
              "      border-color: transparent;\n",
              "      border-left-color: var(--fill-color);\n",
              "      border-top-color: var(--fill-color);\n",
              "    }\n",
              "    30% {\n",
              "      border-color: transparent;\n",
              "      border-left-color: var(--fill-color);\n",
              "      border-top-color: var(--fill-color);\n",
              "      border-right-color: var(--fill-color);\n",
              "    }\n",
              "    40% {\n",
              "      border-color: transparent;\n",
              "      border-right-color: var(--fill-color);\n",
              "      border-top-color: var(--fill-color);\n",
              "    }\n",
              "    60% {\n",
              "      border-color: transparent;\n",
              "      border-right-color: var(--fill-color);\n",
              "    }\n",
              "    80% {\n",
              "      border-color: transparent;\n",
              "      border-right-color: var(--fill-color);\n",
              "      border-bottom-color: var(--fill-color);\n",
              "    }\n",
              "    90% {\n",
              "      border-color: transparent;\n",
              "      border-bottom-color: var(--fill-color);\n",
              "    }\n",
              "  }\n",
              "</style>\n",
              "\n",
              "  <script>\n",
              "    async function quickchart(key) {\n",
              "      const quickchartButtonEl =\n",
              "        document.querySelector('#' + key + ' button');\n",
              "      quickchartButtonEl.disabled = true;  // To prevent multiple clicks.\n",
              "      quickchartButtonEl.classList.add('colab-df-spinner');\n",
              "      try {\n",
              "        const charts = await google.colab.kernel.invokeFunction(\n",
              "            'suggestCharts', [key], {});\n",
              "      } catch (error) {\n",
              "        console.error('Error during call to suggestCharts:', error);\n",
              "      }\n",
              "      quickchartButtonEl.classList.remove('colab-df-spinner');\n",
              "      quickchartButtonEl.classList.add('colab-df-quickchart-complete');\n",
              "    }\n",
              "    (() => {\n",
              "      let quickchartButtonEl =\n",
              "        document.querySelector('#df-b8069a92-51c0-4dc9-882d-985e0fd1bc34 button');\n",
              "      quickchartButtonEl.style.display =\n",
              "        google.colab.kernel.accessAllowed ? 'block' : 'none';\n",
              "    })();\n",
              "  </script>\n",
              "</div>\n",
              "    </div>\n",
              "  </div>\n"
            ]
          },
          "metadata": {},
          "execution_count": 58
        }
      ],
      "source": [
        "pd.DataFrame({'Actual':y_test, 'Predicted':knn_clf_y_pred})"
      ]
    },
    {
      "cell_type": "markdown",
      "id": "df43645b",
      "metadata": {
        "papermill": {
          "duration": 0.022309,
          "end_time": "2023-09-09T17:19:13.786619",
          "exception": false,
          "start_time": "2023-09-09T17:19:13.764310",
          "status": "completed"
        },
        "tags": [],
        "id": "df43645b"
      },
      "source": [
        "> **Evaluate Performance of the Model :**"
      ]
    },
    {
      "cell_type": "code",
      "execution_count": null,
      "id": "eb673ab5",
      "metadata": {
        "execution": {
          "iopub.execute_input": "2023-09-09T17:19:13.834274Z",
          "iopub.status.busy": "2023-09-09T17:19:13.833925Z",
          "iopub.status.idle": "2023-09-09T17:19:13.840458Z",
          "shell.execute_reply": "2023-09-09T17:19:13.839795Z"
        },
        "papermill": {
          "duration": 0.032245,
          "end_time": "2023-09-09T17:19:13.842102",
          "exception": false,
          "start_time": "2023-09-09T17:19:13.809857",
          "status": "completed"
        },
        "tags": [],
        "id": "eb673ab5",
        "outputId": "fe395453-934c-41b0-d466-4a4e83acb790",
        "colab": {
          "base_uri": "https://localhost:8080/"
        }
      },
      "outputs": [
        {
          "output_type": "execute_result",
          "data": {
            "text/plain": [
              "0.6923076923076923"
            ]
          },
          "metadata": {},
          "execution_count": 59
        }
      ],
      "source": [
        "knn_clf_score = accuracy_score(y_test, knn_clf_y_pred)\n",
        "knn_clf_score"
      ]
    },
    {
      "cell_type": "code",
      "execution_count": null,
      "id": "6ee22cb2",
      "metadata": {
        "execution": {
          "iopub.execute_input": "2023-09-09T17:19:13.889660Z",
          "iopub.status.busy": "2023-09-09T17:19:13.889308Z",
          "iopub.status.idle": "2023-09-09T17:19:13.896765Z",
          "shell.execute_reply": "2023-09-09T17:19:13.895670Z"
        },
        "papermill": {
          "duration": 0.034133,
          "end_time": "2023-09-09T17:19:13.899202",
          "exception": false,
          "start_time": "2023-09-09T17:19:13.865069",
          "status": "completed"
        },
        "tags": [],
        "id": "6ee22cb2",
        "outputId": "8694702f-993d-4d8f-de71-be81b620fef7",
        "colab": {
          "base_uri": "https://localhost:8080/"
        }
      },
      "outputs": [
        {
          "output_type": "execute_result",
          "data": {
            "text/plain": [
              "array([[5, 2],\n",
              "       [2, 4]])"
            ]
          },
          "metadata": {},
          "execution_count": 60
        }
      ],
      "source": [
        "knn_clf_mat = confusion_matrix(y_test, knn_clf_y_pred)\n",
        "knn_clf_mat"
      ]
    },
    {
      "cell_type": "code",
      "execution_count": null,
      "id": "74332b6e",
      "metadata": {
        "execution": {
          "iopub.execute_input": "2023-09-09T17:19:13.947358Z",
          "iopub.status.busy": "2023-09-09T17:19:13.946965Z",
          "iopub.status.idle": "2023-09-09T17:19:13.959401Z",
          "shell.execute_reply": "2023-09-09T17:19:13.958170Z"
        },
        "papermill": {
          "duration": 0.03875,
          "end_time": "2023-09-09T17:19:13.961263",
          "exception": false,
          "start_time": "2023-09-09T17:19:13.922513",
          "status": "completed"
        },
        "tags": [],
        "id": "74332b6e",
        "outputId": "b0c9875d-2ab3-46c8-8dba-9c58a9fe7c3a",
        "colab": {
          "base_uri": "https://localhost:8080/"
        }
      },
      "outputs": [
        {
          "output_type": "stream",
          "name": "stdout",
          "text": [
            "              precision    recall  f1-score   support\n",
            "\n",
            "           0       0.71      0.71      0.71         7\n",
            "           1       0.67      0.67      0.67         6\n",
            "\n",
            "    accuracy                           0.69        13\n",
            "   macro avg       0.69      0.69      0.69        13\n",
            "weighted avg       0.69      0.69      0.69        13\n",
            "\n"
          ]
        }
      ],
      "source": [
        "knn_clf_report = classification_report(y_test, knn_clf_y_pred)\n",
        "print(knn_clf_report)"
      ]
    },
    {
      "cell_type": "markdown",
      "id": "5341a21c",
      "metadata": {
        "papermill": {
          "duration": 0.022513,
          "end_time": "2023-09-09T17:19:14.006522",
          "exception": false,
          "start_time": "2023-09-09T17:19:13.984009",
          "status": "completed"
        },
        "tags": [],
        "id": "5341a21c"
      },
      "source": [
        "# **Compare Performances of all the Models**"
      ]
    },
    {
      "cell_type": "code",
      "execution_count": null,
      "id": "ff70cd6a",
      "metadata": {
        "execution": {
          "iopub.execute_input": "2023-09-09T17:19:14.053907Z",
          "iopub.status.busy": "2023-09-09T17:19:14.053570Z",
          "iopub.status.idle": "2023-09-09T17:19:14.363327Z",
          "shell.execute_reply": "2023-09-09T17:19:14.362105Z"
        },
        "papermill": {
          "duration": 0.336746,
          "end_time": "2023-09-09T17:19:14.366022",
          "exception": false,
          "start_time": "2023-09-09T17:19:14.029276",
          "status": "completed"
        },
        "tags": [],
        "id": "ff70cd6a",
        "outputId": "2fb11e76-c762-43fb-dcc0-bbc3cb0790b8",
        "colab": {
          "base_uri": "https://localhost:8080/",
          "height": 564
        }
      },
      "outputs": [
        {
          "output_type": "display_data",
          "data": {
            "text/plain": [
              "<Figure size 800x600 with 1 Axes>"
            ],
            "image/png": "[encoded data removed]"
          },
          "metadata": {}
        }
      ],
      "source": [
        "data = [log_regr_score, dt_score, rf_clf_score, svm_clf_score, knn_clf_score]\n",
        "categories = ['Logistic Regression', 'Decision Tree', 'Random Forest', 'SVM', 'KNN']\n",
        "\n",
        "plt.figure(figsize=(8,6))\n",
        "\n",
        "plt.bar(categories, data, width=0.50)\n",
        "\n",
        "plt.xlabel('Model Names')\n",
        "plt.ylabel('Accuracy Score')\n",
        "plt.title('Compare Evaluation Metrics of Logistic Regression, Decision Tree, Random Forest, SVM, KNN')\n",
        "\n",
        "plt.savefig('Compare_LR_DT_RF_SVM_KNN.png')\n",
        "# Show the plot\n",
        "plt.show()"
      ]
    },
    {
      "cell_type": "markdown",
      "id": "c0ab1926",
      "metadata": {
        "papermill": {
          "duration": 0.023154,
          "end_time": "2023-09-09T17:19:14.412732",
          "exception": false,
          "start_time": "2023-09-09T17:19:14.389578",
          "status": "completed"
        },
        "tags": [],
        "id": "c0ab1926"
      },
      "source": [
        "**(Decision_Tree == Random_Forest == KNN) > (Logistic_Regression == SVM)**"
      ]
    },
    {
      "cell_type": "code",
      "execution_count": null,
      "id": "fcc0a5c8",
      "metadata": {
        "papermill": {
          "duration": 0.022578,
          "end_time": "2023-09-09T17:19:14.458663",
          "exception": false,
          "start_time": "2023-09-09T17:19:14.436085",
          "status": "completed"
        },
        "tags": [],
        "id": "fcc0a5c8"
      },
      "outputs": [],
      "source": []
    }
  ],
  "metadata": {
    "kernelspec": {
      "display_name": "Python 3",
      "language": "python",
      "name": "python3"
    },
    "language_info": {
      "codemirror_mode": {
        "name": "ipython",
        "version": 3
      },
      "file_extension": ".py",
      "mimetype": "text/x-python",
      "name": "python",
      "nbconvert_exporter": "python",
      "pygments_lexer": "ipython3",
      "version": "3.10.12"
    },
    "papermill": {
      "default_parameters": {},
      "duration": 13.331349,
      "end_time": "2023-09-09T17:19:15.102356",
      "environment_variables": {},
      "exception": null,
      "input_path": "__notebook__.ipynb",
      "output_path": "__notebook__.ipynb",
      "parameters": {},
      "start_time": "2023-09-09T17:19:01.771007",
      "version": "2.4.0"
    },
    "colab": {
      "provenance": []
    }
  },
  "nbformat": 4,
  "nbformat_minor": 5
}